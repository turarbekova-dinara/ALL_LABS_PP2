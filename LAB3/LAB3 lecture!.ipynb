{
 "cells": [
  {
   "cell_type": "markdown",
   "id": "747e9d7e-e8ba-4f81-a600-4f73d2ed4b75",
   "metadata": {},
   "source": [
    "Creating a Function"
   ]
  },
  {
   "cell_type": "code",
   "execution_count": 5,
   "id": "ea77f7fe-07e7-4743-836d-757b464606ff",
   "metadata": {},
   "outputs": [
    {
     "name": "stdout",
     "output_type": "stream",
     "text": [
      "Hello from a function\n"
     ]
    }
   ],
   "source": [
    "def my_function():\n",
    "  print(\"Hello from a function\")\n",
    "\n",
    "my_function()"
   ]
  },
  {
   "cell_type": "markdown",
   "id": "56d327e1-86b1-4f9f-b82f-aa27fec40536",
   "metadata": {},
   "source": [
    "Arguments"
   ]
  },
  {
   "cell_type": "code",
   "execution_count": 12,
   "id": "d6744120-5792-46a7-9bb4-20b4a8536cfa",
   "metadata": {},
   "outputs": [
    {
     "name": "stdout",
     "output_type": "stream",
     "text": [
      "Emil Refsnes\n"
     ]
    }
   ],
   "source": [
    "def my_function(fname):\n",
    "  print(fname + \" Refsnes\")\n",
    "\n",
    "my_function(\"Emil\")"
   ]
  },
  {
   "cell_type": "markdown",
   "id": "308c634c-7179-4ac8-9152-f7004591cc53",
   "metadata": {},
   "source": [
    "Number of Arguments"
   ]
  },
  {
   "cell_type": "code",
   "execution_count": 15,
   "id": "b581709a-795b-44ba-8688-57fae8cd888d",
   "metadata": {},
   "outputs": [
    {
     "name": "stdout",
     "output_type": "stream",
     "text": [
      "Emil Refsnes\n"
     ]
    }
   ],
   "source": [
    "def my_function(fname, lname):\n",
    "  print(fname + \" \" + lname)\n",
    "\n",
    "my_function(\"Emil\", \"Refsnes\")"
   ]
  },
  {
   "cell_type": "markdown",
   "id": "e077de1f-23a1-4b81-b644-7abc548d5a77",
   "metadata": {},
   "source": [
    "Arbitrary Arguments, *args"
   ]
  },
  {
   "cell_type": "code",
   "execution_count": 18,
   "id": "21b4407d-a5b3-4b9a-98f3-30ed207b264f",
   "metadata": {},
   "outputs": [
    {
     "name": "stdout",
     "output_type": "stream",
     "text": [
      "The youngest child is Linus\n"
     ]
    }
   ],
   "source": [
    "def my_function(*kids):\n",
    "  print(\"The youngest child is \" + kids[2])\n",
    "\n",
    "my_function(\"Emil\", \"Tobias\", \"Linus\")"
   ]
  },
  {
   "cell_type": "markdown",
   "id": "c5d8f456-870b-4e68-bd8a-9af590ab4d6d",
   "metadata": {},
   "source": [
    "Keyword Arguments"
   ]
  },
  {
   "cell_type": "code",
   "execution_count": 21,
   "id": "5beb58c1-78d4-4f30-9f7d-8f09ec770cb2",
   "metadata": {},
   "outputs": [
    {
     "name": "stdout",
     "output_type": "stream",
     "text": [
      "The youngest child is Linus\n"
     ]
    }
   ],
   "source": [
    "def my_function(child3, child2, child1):\n",
    "  print(\"The youngest child is \" + child3)\n",
    "\n",
    "my_function(child1 = \"Emil\", child2 = \"Tobias\", child3 = \"Linus\")"
   ]
  },
  {
   "cell_type": "markdown",
   "id": "23645cfe-9719-4d31-a88a-930bb4722456",
   "metadata": {},
   "source": [
    "Arbitrary Keyword Arguments, **kwargs"
   ]
  },
  {
   "cell_type": "code",
   "execution_count": 24,
   "id": "c82c4b95-47e9-4835-b4f9-29376d4b6da4",
   "metadata": {},
   "outputs": [
    {
     "name": "stdout",
     "output_type": "stream",
     "text": [
      "His last name is Refsnes\n"
     ]
    }
   ],
   "source": [
    "def my_function(**kid):\n",
    "  print(\"His last name is \" + kid[\"lname\"])\n",
    "\n",
    "my_function(fname = \"Tobias\", lname = \"Refsnes\")"
   ]
  },
  {
   "cell_type": "markdown",
   "id": "cac26633-c8de-499b-9b5f-8da8f1b455cd",
   "metadata": {},
   "source": [
    "Default Parameter Value"
   ]
  },
  {
   "cell_type": "code",
   "execution_count": 27,
   "id": "74ad2723-0f86-42d5-805b-cc8763a4bd00",
   "metadata": {},
   "outputs": [
    {
     "name": "stdout",
     "output_type": "stream",
     "text": [
      "I am from Sweden\n",
      "I am from India\n",
      "I am from Norway\n",
      "I am from Brazil\n"
     ]
    }
   ],
   "source": [
    "def my_function(country = \"Norway\"):\n",
    "  print(\"I am from \" + country)\n",
    "\n",
    "my_function(\"Sweden\")\n",
    "my_function(\"India\")\n",
    "my_function()\n",
    "my_function(\"Brazil\")"
   ]
  },
  {
   "cell_type": "markdown",
   "id": "5be0ec0d-bd65-4d60-bd72-2d3095fd0cfe",
   "metadata": {},
   "source": [
    "Passing a List as an Argument"
   ]
  },
  {
   "cell_type": "code",
   "execution_count": 30,
   "id": "a1b4fa78-5c3a-472d-96ae-a963b85623cd",
   "metadata": {},
   "outputs": [
    {
     "name": "stdout",
     "output_type": "stream",
     "text": [
      "apple\n",
      "banana\n",
      "cherry\n"
     ]
    }
   ],
   "source": [
    "def my_function(food):\n",
    "  for x in food:\n",
    "    print(x)\n",
    "\n",
    "fruits = [\"apple\", \"banana\", \"cherry\"]\n",
    "\n",
    "my_function(fruits)"
   ]
  },
  {
   "cell_type": "markdown",
   "id": "d759db28-7e78-4ef9-82c8-c0784f3cf276",
   "metadata": {},
   "source": [
    "Return Values"
   ]
  },
  {
   "cell_type": "code",
   "execution_count": 33,
   "id": "3145fdca-6856-4921-9681-3825bdda1966",
   "metadata": {},
   "outputs": [
    {
     "name": "stdout",
     "output_type": "stream",
     "text": [
      "15\n",
      "25\n",
      "45\n"
     ]
    }
   ],
   "source": [
    "def my_function(x):\n",
    "  return 5 * x\n",
    "\n",
    "print(my_function(3))\n",
    "print(my_function(5))\n",
    "print(my_function(9))"
   ]
  },
  {
   "cell_type": "markdown",
   "id": "18624296-c934-416a-81bf-2c408ea19c39",
   "metadata": {},
   "source": [
    "The pass Statement"
   ]
  },
  {
   "cell_type": "code",
   "execution_count": 36,
   "id": "93c1baa7-13fb-4072-8bdd-864a063e480d",
   "metadata": {},
   "outputs": [],
   "source": [
    "def myfunction():\n",
    "  pass"
   ]
  },
  {
   "cell_type": "markdown",
   "id": "87682b34-9a71-404a-83a2-fa1c9bd96b7e",
   "metadata": {},
   "source": [
    "Positional-Only Arguments"
   ]
  },
  {
   "cell_type": "code",
   "execution_count": 39,
   "id": "3117de5a-8fc7-4809-82ec-fd1513873470",
   "metadata": {},
   "outputs": [
    {
     "name": "stdout",
     "output_type": "stream",
     "text": [
      "3\n"
     ]
    }
   ],
   "source": [
    "def my_function(x, /):\n",
    "  print(x)\n",
    "\n",
    "my_function(3)"
   ]
  },
  {
   "cell_type": "code",
   "execution_count": 41,
   "id": "374ffb49-231b-4ca9-b7d9-2ffb7fbca121",
   "metadata": {},
   "outputs": [
    {
     "name": "stdout",
     "output_type": "stream",
     "text": [
      "3\n"
     ]
    }
   ],
   "source": [
    "def my_function(x):\n",
    "  print(x)\n",
    "\n",
    "my_function(x = 3)"
   ]
  },
  {
   "cell_type": "markdown",
   "id": "c74de1e4-5212-4f26-95ec-25ef6b9bdf80",
   "metadata": {},
   "source": [
    "Keyword-Only Arguments"
   ]
  },
  {
   "cell_type": "code",
   "execution_count": 44,
   "id": "6fe6490f-3cb0-48f9-bbb3-512e74a5f26b",
   "metadata": {},
   "outputs": [
    {
     "name": "stdout",
     "output_type": "stream",
     "text": [
      "3\n"
     ]
    }
   ],
   "source": [
    "def my_function(*, x):\n",
    "  print(x)\n",
    "\n",
    "my_function(x = 3)"
   ]
  },
  {
   "cell_type": "code",
   "execution_count": 46,
   "id": "a397ae25-1ec3-4529-a628-0eb4d324fe3b",
   "metadata": {},
   "outputs": [
    {
     "name": "stdout",
     "output_type": "stream",
     "text": [
      "3\n"
     ]
    }
   ],
   "source": [
    "def my_function(x):\n",
    "  print(x)\n",
    "\n",
    "my_function(3)"
   ]
  },
  {
   "cell_type": "markdown",
   "id": "c0e9f0ea-d95e-4ed9-81fb-530c57b59c56",
   "metadata": {},
   "source": [
    "Combine Positional-Only and Keyword-Only"
   ]
  },
  {
   "cell_type": "code",
   "execution_count": 49,
   "id": "c7910210-8586-4dff-b0de-445281f7cf1a",
   "metadata": {},
   "outputs": [
    {
     "name": "stdout",
     "output_type": "stream",
     "text": [
      "26\n"
     ]
    }
   ],
   "source": [
    "def my_function(a, b, /, *, c, d):\n",
    "  print(a + b + c + d)\n",
    "\n",
    "my_function(5, 6, c = 7, d = 8)"
   ]
  },
  {
   "cell_type": "markdown",
   "id": "f7b70202-fa9a-4f2c-9ff3-1b57c9d3eb75",
   "metadata": {},
   "source": [
    "Recursion"
   ]
  },
  {
   "cell_type": "code",
   "execution_count": 52,
   "id": "b6a79685-4a01-4d65-8edf-e7860045750e",
   "metadata": {},
   "outputs": [
    {
     "name": "stdout",
     "output_type": "stream",
     "text": [
      "Recursion Example Results:\n",
      "1\n",
      "3\n",
      "6\n",
      "10\n",
      "15\n",
      "21\n"
     ]
    },
    {
     "data": {
      "text/plain": [
       "21"
      ]
     },
     "execution_count": 52,
     "metadata": {},
     "output_type": "execute_result"
    }
   ],
   "source": [
    "def tri_recursion(k):\n",
    "  if(k > 0):\n",
    "    result = k + tri_recursion(k - 1)\n",
    "    print(result)\n",
    "  else:\n",
    "    result = 0\n",
    "  return result\n",
    "\n",
    "print(\"Recursion Example Results:\")\n",
    "tri_recursion(6)"
   ]
  },
  {
   "cell_type": "markdown",
   "id": "cb64c732-bec0-4f2b-a3ab-8c5f18c15bba",
   "metadata": {},
   "source": [
    "Python Lambda"
   ]
  },
  {
   "cell_type": "code",
   "execution_count": 55,
   "id": "1f4b4a50-7c65-428b-bf1d-5498b502b10d",
   "metadata": {},
   "outputs": [
    {
     "name": "stdout",
     "output_type": "stream",
     "text": [
      "15\n"
     ]
    }
   ],
   "source": [
    "x = lambda a : a + 10\n",
    "print(x(5))"
   ]
  },
  {
   "cell_type": "code",
   "execution_count": 57,
   "id": "996982ef-6b4c-4085-b613-ad7cbc04f75e",
   "metadata": {},
   "outputs": [
    {
     "name": "stdout",
     "output_type": "stream",
     "text": [
      "30\n"
     ]
    }
   ],
   "source": [
    "x = lambda a, b : a * b\n",
    "print(x(5, 6))"
   ]
  },
  {
   "cell_type": "code",
   "execution_count": 59,
   "id": "fce4204f-20c9-4bf8-a14a-0c6f19f4d2f6",
   "metadata": {},
   "outputs": [
    {
     "name": "stdout",
     "output_type": "stream",
     "text": [
      "13\n"
     ]
    }
   ],
   "source": [
    "x = lambda a, b, c : a + b + c\n",
    "print(x(5, 6, 2))"
   ]
  },
  {
   "cell_type": "code",
   "execution_count": 65,
   "id": "3012ce0b-9984-4914-a024-552b372f64ae",
   "metadata": {},
   "outputs": [
    {
     "name": "stdout",
     "output_type": "stream",
     "text": [
      "22\n"
     ]
    }
   ],
   "source": [
    "def myfunc(n):\n",
    "  return lambda a : a * n\n",
    "\n",
    "mydoubler = myfunc(2)\n",
    "\n",
    "print(mydoubler(11))"
   ]
  },
  {
   "cell_type": "code",
   "execution_count": 67,
   "id": "f1c22e3d-1e7a-4abd-8cf2-29ecc9d84973",
   "metadata": {},
   "outputs": [
    {
     "name": "stdout",
     "output_type": "stream",
     "text": [
      "33\n"
     ]
    }
   ],
   "source": [
    "def myfunc(n):\n",
    "  return lambda a : a * n\n",
    "\n",
    "mytripler = myfunc(3)\n",
    "\n",
    "print(mytripler(11))"
   ]
  },
  {
   "cell_type": "code",
   "execution_count": 69,
   "id": "29b36ca8-91e8-4538-a0ff-22d844ba54a8",
   "metadata": {},
   "outputs": [
    {
     "name": "stdout",
     "output_type": "stream",
     "text": [
      "22\n",
      "33\n"
     ]
    }
   ],
   "source": [
    "def myfunc(n):\n",
    "  return lambda a : a * n\n",
    "\n",
    "mydoubler = myfunc(2)\n",
    "mytripler = myfunc(3)\n",
    "\n",
    "print(mydoubler(11))\n",
    "print(mytripler(11))"
   ]
  },
  {
   "cell_type": "markdown",
   "id": "014a96ed-bc29-4392-803b-e3cca7eabe24",
   "metadata": {},
   "source": [
    "Python Classes and Objects"
   ]
  },
  {
   "cell_type": "code",
   "execution_count": 72,
   "id": "fccd8b1e-4e49-4f66-935e-bd6e00943f6c",
   "metadata": {},
   "outputs": [],
   "source": [
    "class Car:\n",
    "    pass  # Бұл бос класс, ешқандай әрекет жасамайды"
   ]
  },
  {
   "cell_type": "code",
   "execution_count": 74,
   "id": "b4d75ca3-27c7-4431-b370-c07f42dd6ecf",
   "metadata": {},
   "outputs": [
    {
     "name": "stdout",
     "output_type": "stream",
     "text": [
      "<__main__.Car object at 0x1065453a0>\n"
     ]
    }
   ],
   "source": [
    "class Car:\n",
    "    pass\n",
    "\n",
    "my_car = Car()  # Car класының объектісін (экземплярын) жасадық\n",
    "print(my_car)"
   ]
  },
  {
   "cell_type": "code",
   "execution_count": 76,
   "id": "bf6e2340-1c23-4c9d-bf0a-761fad0edc46",
   "metadata": {},
   "outputs": [
    {
     "name": "stdout",
     "output_type": "stream",
     "text": [
      "Tayota\n",
      "Red\n"
     ]
    }
   ],
   "source": [
    "class Car:\n",
    "    def __init__(self, brend, color):\n",
    "        self.brend = brend\n",
    "        self.color = color\n",
    "my_car = Car(\"Tayota\", \"Red\")\n",
    "print(my_car.brend)\n",
    "print(my_car.color)"
   ]
  },
  {
   "cell_type": "code",
   "execution_count": 78,
   "id": "6e873085-3c4b-45bb-8b1a-3384fa902562",
   "metadata": {},
   "outputs": [
    {
     "name": "stdout",
     "output_type": "stream",
     "text": [
      "Маркасы: BMW, түсі: Көк\n"
     ]
    }
   ],
   "source": [
    "class Car:\n",
    "    def __init__(self, brand, color):\n",
    "        self.brand = brand\n",
    "        self.color = color\n",
    "\n",
    "    def show_info(self):  # Кәдімгі метод\n",
    "        print(f\"Маркасы: {self.brand}, түсі: {self.color}\")\n",
    "\n",
    "# Объект жасау\n",
    "my_car = Car(\"BMW\", \"Көк\")\n",
    "my_car.show_info() "
   ]
  },
  {
   "cell_type": "code",
   "execution_count": 82,
   "id": "a27ad6cd-8541-415a-b806-7a3424c51bc6",
   "metadata": {},
   "outputs": [
    {
     "name": "stdout",
     "output_type": "stream",
     "text": [
      "<class '__main__.MyClass'>\n"
     ]
    }
   ],
   "source": [
    "#Create a Class:\n",
    "\n",
    "class MyClass:\n",
    "    x = 5\n",
    "\n",
    "print(MyClass)"
   ]
  },
  {
   "cell_type": "code",
   "execution_count": 88,
   "id": "835cbc6c-1b7a-4643-a344-2cd30e6f1f6d",
   "metadata": {},
   "outputs": [
    {
     "name": "stdout",
     "output_type": "stream",
     "text": [
      "5\n"
     ]
    }
   ],
   "source": [
    "#Create Object:\n",
    "\n",
    "class Cat:\n",
    "    x = 5\n",
    "\n",
    "cat_1 = Cat()\n",
    "print(cat_1.x)"
   ]
  },
  {
   "cell_type": "markdown",
   "id": "77f41ab0-7452-45c7-8e7e-91108224cef5",
   "metadata": {},
   "source": [
    "The __init__() Function"
   ]
  },
  {
   "cell_type": "code",
   "execution_count": 91,
   "id": "6b889f1e-7810-4910-b4d5-d3c6ca7a54e7",
   "metadata": {},
   "outputs": [
    {
     "name": "stdout",
     "output_type": "stream",
     "text": [
      "Dinara\n",
      "18\n"
     ]
    }
   ],
   "source": [
    "class Person:\n",
    "    def __init__(self, name, age):\n",
    "        self.name = name\n",
    "        self.age = age\n",
    "\n",
    "p1 = Person(\"Dinara\", 18)\n",
    "print(p1.name)\n",
    "print(p1.age)"
   ]
  },
  {
   "cell_type": "markdown",
   "id": "210df521-689c-4bae-a1e7-995e9384dc7c",
   "metadata": {},
   "source": [
    "The __str__() Function"
   ]
  },
  {
   "cell_type": "code",
   "execution_count": 94,
   "id": "b13958ee-fcda-4c65-bcf5-f8eaac381caf",
   "metadata": {},
   "outputs": [
    {
     "name": "stdout",
     "output_type": "stream",
     "text": [
      "<__main__.Person object at 0x15117e720>\n"
     ]
    }
   ],
   "source": [
    "class Person:\n",
    "    def __init__(self, name, age):\n",
    "        self.name = name\n",
    "        self.age = age\n",
    "\n",
    "p1 = Person(\"Dinara\", 18)\n",
    "\n",
    "print(p1)"
   ]
  },
  {
   "cell_type": "code",
   "execution_count": 98,
   "id": "bf015cd7-0099-455e-8249-c9f6db70e6ee",
   "metadata": {},
   "outputs": [
    {
     "name": "stdout",
     "output_type": "stream",
     "text": [
      "Cat,Dog\n"
     ]
    }
   ],
   "source": [
    "class My_pets:\n",
    "    def __init__(self, name1, name2):\n",
    "        self.name1 = name1\n",
    "        self.name2 = name2\n",
    "    def __str__(self):\n",
    "        return f\"{self.name1},{self.name2}\"\n",
    "\n",
    "p1 = My_pets(\"Cat\", \"Dog\")\n",
    "print(p1)"
   ]
  },
  {
   "cell_type": "markdown",
   "id": "87447197-3865-4af6-9de5-1fa01a87e8f9",
   "metadata": {},
   "source": [
    "Object Methods"
   ]
  },
  {
   "cell_type": "code",
   "execution_count": 109,
   "id": "2e91846e-9dce-4205-8fa1-00f1a83ed784",
   "metadata": {},
   "outputs": [
    {
     "name": "stdout",
     "output_type": "stream",
     "text": [
      "Hello, ma name is Dinara\n"
     ]
    }
   ],
   "source": [
    "class Person:\n",
    "    def __init__(self, name, age):\n",
    "        self.name = name\n",
    "        self.age = age\n",
    "    def my_function(self):\n",
    "        print(\"Hello, ma name is \" + self.name)\n",
    "p1 = Person(\"Dinara\", 18)\n",
    "p1.my_function()"
   ]
  },
  {
   "cell_type": "markdown",
   "id": "af5e45af-5348-4b18-b4f8-d0d5c6dafb02",
   "metadata": {},
   "source": [
    "Modify Object Properties"
   ]
  },
  {
   "cell_type": "code",
   "execution_count": 114,
   "id": "72b876b7-6242-4a1c-9ddd-b6cbad7adfe8",
   "metadata": {},
   "outputs": [
    {
     "name": "stdout",
     "output_type": "stream",
     "text": [
      "40\n"
     ]
    }
   ],
   "source": [
    "class Person:\n",
    "  def __init__(self, name, age):\n",
    "    self.name = name\n",
    "    self.age = age\n",
    "\n",
    "  def myfunc(self):\n",
    "    print(\"Hello my name is \" + self.name)\n",
    "\n",
    "p1 = Person(\"John\", 36)\n",
    "\n",
    "p1.age = 40\n",
    "\n",
    "print(p1.age)"
   ]
  },
  {
   "cell_type": "markdown",
   "id": "019cc48e-66ff-435d-bc2f-810affa21080",
   "metadata": {},
   "source": [
    "Delete Object Properties"
   ]
  },
  {
   "cell_type": "code",
   "execution_count": 122,
   "id": "36f075c6-14e3-4e4a-b822-5eb2884d301f",
   "metadata": {},
   "outputs": [],
   "source": [
    "class Person:\n",
    "  def __init__(self, name, age):\n",
    "    self.name = name\n",
    "    self.age = age\n",
    "\n",
    "  def myfunc(self):\n",
    "    print(\"Hello my name is \" + self.name)\n",
    "\n",
    "p1 = Person(\"John\", 36)\n",
    "\n",
    "del p1.age\n",
    "\n",
    "#print(p1.age)"
   ]
  },
  {
   "cell_type": "code",
   "execution_count": 124,
   "id": "bd0ff153-8e21-47cb-b776-32aca111b1dc",
   "metadata": {},
   "outputs": [],
   "source": [
    "class Person:\n",
    "  def __init__(self, name, age):\n",
    "    self.name = name\n",
    "    self.age = age\n",
    "\n",
    "  def myfunc(self):\n",
    "    print(\"Hello my name is \" + self.name)\n",
    "\n",
    "p1 = Person(\"John\", 36)\n",
    "\n",
    "del p1\n",
    "\n",
    "#print(p1)"
   ]
  },
  {
   "cell_type": "markdown",
   "id": "19869470-de88-477c-9cdc-3859f3acd2f5",
   "metadata": {},
   "source": [
    "The pass Statement"
   ]
  },
  {
   "cell_type": "code",
   "execution_count": 127,
   "id": "18f75cb9-271c-43e8-9072-b03fa9b8ef14",
   "metadata": {},
   "outputs": [],
   "source": [
    "class Person:\n",
    "  pass\n",
    "\n",
    "# having an empty class definition like this, would raise an error without the pass statement"
   ]
  },
  {
   "cell_type": "markdown",
   "id": "b92c89bf-eb71-4cff-a562-e0ab26541e7f",
   "metadata": {},
   "source": [
    "Python Inheritance"
   ]
  },
  {
   "cell_type": "markdown",
   "id": "882a5727-4a8f-48b1-b72f-878c201afd79",
   "metadata": {},
   "source": [
    "Create a Parent Class"
   ]
  },
  {
   "cell_type": "code",
   "execution_count": 131,
   "id": "53f42d9a-fd4b-427e-8ec1-d867bbd20745",
   "metadata": {},
   "outputs": [
    {
     "name": "stdout",
     "output_type": "stream",
     "text": [
      "Dinara Turarbekova\n"
     ]
    }
   ],
   "source": [
    "class Person:\n",
    "    def __init__(self, fname, lname):\n",
    "        self.firstname = fname\n",
    "        self.lastname = lname\n",
    "    def function(self):\n",
    "        print(self.firstname, self.lastname)\n",
    "\n",
    "x = Person(\"Dinara\", \"Turarbekova\")\n",
    "x.function()"
   ]
  },
  {
   "cell_type": "markdown",
   "id": "05665976-63c9-4ecf-ba06-2dd467468b12",
   "metadata": {},
   "source": [
    "Create a Child Class"
   ]
  },
  {
   "cell_type": "code",
   "execution_count": 134,
   "id": "fa8f450c-3c1d-419e-9adc-1dc591e6b72d",
   "metadata": {},
   "outputs": [],
   "source": [
    "class Student(Person):\n",
    "  pass"
   ]
  },
  {
   "cell_type": "code",
   "execution_count": 138,
   "id": "17ac9a82-e91c-4edf-a1e9-d8e45b3bdebb",
   "metadata": {},
   "outputs": [
    {
     "name": "stdout",
     "output_type": "stream",
     "text": [
      "Mike Olsen\n"
     ]
    }
   ],
   "source": [
    "class Student:\n",
    "    def __init__(self, name1, name2):\n",
    "        self.name1 = name1\n",
    "        self.name2 = name2\n",
    "    def printname(self):\n",
    "        print(self.name1, self.name2)\n",
    "        \n",
    "x = Student(\"Mike\", \"Olsen\")\n",
    "x.printname()"
   ]
  },
  {
   "cell_type": "markdown",
   "id": "4d403619-4b22-43dc-835b-c2c06a82783a",
   "metadata": {},
   "source": [
    "Add the __init__() Function"
   ]
  },
  {
   "cell_type": "code",
   "execution_count": 145,
   "id": "a6987728-5fe2-4c26-a9aa-b40ec6cef6c4",
   "metadata": {},
   "outputs": [
    {
     "name": "stdout",
     "output_type": "stream",
     "text": [
      "Mike Olsen\n"
     ]
    }
   ],
   "source": [
    "class Person:\n",
    "  def __init__(self, fname, lname):\n",
    "    self.firstname = fname\n",
    "    self.lastname = lname\n",
    "\n",
    "  def printname(self):\n",
    "    print(self.firstname, self.lastname)\n",
    "\n",
    "#new row:\n",
    "class Student(Person):\n",
    "  def __init__(self, fname, lname):\n",
    "    Person.__init__(self, fname, lname)\n",
    "\n",
    "x = Student(\"Mike\", \"Olsen\")\n",
    "x.printname()"
   ]
  },
  {
   "cell_type": "markdown",
   "id": "2aa24660-3ee7-4efa-8479-c93948fad752",
   "metadata": {},
   "source": [
    "Use the super() Function"
   ]
  },
  {
   "cell_type": "code",
   "execution_count": 148,
   "id": "c6203593-32ad-4618-9bd4-636b09cf6a4a",
   "metadata": {},
   "outputs": [
    {
     "name": "stdout",
     "output_type": "stream",
     "text": [
      "Mike Olsen\n"
     ]
    }
   ],
   "source": [
    "class Person:\n",
    "  def __init__(self, fname, lname):\n",
    "    self.firstname = fname\n",
    "    self.lastname = lname\n",
    "\n",
    "  def printname(self):\n",
    "    print(self.firstname, self.lastname)\n",
    "\n",
    "#new row:\n",
    "class Student(Person): #super() == Person\n",
    "  def __init__(self, fname, lname):\n",
    "    #new row2:\n",
    "    super().__init__(fname, lname)\n",
    "\n",
    "x = Student(\"Mike\", \"Olsen\")\n",
    "x.printname()"
   ]
  },
  {
   "cell_type": "markdown",
   "id": "9a3c8911-4848-44d0-baf2-67d9771bb047",
   "metadata": {},
   "source": [
    "Add Properties"
   ]
  },
  {
   "cell_type": "code",
   "execution_count": 151,
   "id": "4a7f022b-8246-49a9-b4de-bb0abf39c34b",
   "metadata": {},
   "outputs": [
    {
     "name": "stdout",
     "output_type": "stream",
     "text": [
      "2019\n"
     ]
    }
   ],
   "source": [
    "class Person:\n",
    "  def __init__(self, fname, lname):\n",
    "    self.firstname = fname\n",
    "    self.lastname = lname\n",
    "\n",
    "  def printname(self):\n",
    "    print(self.firstname, self.lastname)\n",
    "\n",
    "class Student(Person):\n",
    "  def __init__(self, fname, lname):\n",
    "    super().__init__(fname, lname)\n",
    "    self.graduationyear = 2019\n",
    "\n",
    "x = Student(\"Mike\", \"Olsen\")\n",
    "print(x.graduationyear)\n"
   ]
  },
  {
   "cell_type": "markdown",
   "id": "e84dd9a7-25ed-42e7-af61-60b65f9be6c9",
   "metadata": {},
   "source": [
    "Add Methods"
   ]
  },
  {
   "cell_type": "code",
   "execution_count": 154,
   "id": "f538e146-0bf3-454c-927f-d3a070049bbd",
   "metadata": {},
   "outputs": [
    {
     "name": "stdout",
     "output_type": "stream",
     "text": [
      "Welcome Mike Olsen to the class of 2024\n"
     ]
    }
   ],
   "source": [
    "class Person:\n",
    "  def __init__(self, fname, lname):\n",
    "    self.firstname = fname\n",
    "    self.lastname = lname\n",
    "\n",
    "  def printname(self):\n",
    "    print(self.firstname, self.lastname)\n",
    "\n",
    "class Student(Person):\n",
    "  def __init__(self, fname, lname, year):\n",
    "    super().__init__(fname, lname)\n",
    "    self.graduationyear = year\n",
    "\n",
    "  def welcome(self):\n",
    "    print(\"Welcome\", self.firstname, self.lastname, \"to the class of\", self.graduationyear)\n",
    "\n",
    "x = Student(\"Mike\", \"Olsen\", 2024)\n",
    "x.welcome()\n"
   ]
  },
  {
   "cell_type": "code",
   "execution_count": null,
   "id": "b68355c6-3302-4aa7-95db-d9ffdc283987",
   "metadata": {},
   "outputs": [],
   "source": []
  }
 ],
 "metadata": {
  "kernelspec": {
   "display_name": "Python [conda env:base] *",
   "language": "python",
   "name": "conda-base-py"
  },
  "language_info": {
   "codemirror_mode": {
    "name": "ipython",
    "version": 3
   },
   "file_extension": ".py",
   "mimetype": "text/x-python",
   "name": "python",
   "nbconvert_exporter": "python",
   "pygments_lexer": "ipython3",
   "version": "3.12.7"
  }
 },
 "nbformat": 4,
 "nbformat_minor": 5
}
