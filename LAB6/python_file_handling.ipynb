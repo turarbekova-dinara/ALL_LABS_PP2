{
 "cells": [
  {
   "cell_type": "markdown",
   "id": "bf4aa88c",
   "metadata": {},
   "source": [
    "# Python File Handling: Opening, Reading, Writing, and Deleting Files"
   ]
  },
  {
   "cell_type": "markdown",
   "id": "35ab79c1",
   "metadata": {},
   "source": [
    "## 1. Introduction to File Handling\n",
    "File handling is a crucial part of any web application, allowing for creating, reading, updating, and deleting files."
   ]
  },
  {
   "cell_type": "markdown",
   "id": "a6b79795",
   "metadata": {},
   "source": [
    "## 2. The `open()` Function\n",
    "The `open()` function is used to work with files in Python. It takes two parameters:\n",
    "- **filename**: Name of the file to open.\n",
    "- **mode**: The mode in which the file should be opened."
   ]
  },
  {
   "cell_type": "markdown",
   "id": "89b94fe5",
   "metadata": {},
   "source": [
    "## 3. File Opening Modes\n",
    "| Mode  | Description |\n",
    "|-------|-------------|\n",
    "| \"r\"   | Read mode (default). Opens file for reading. Error if file does not exist. |\n",
    "| \"a\"   | Append mode. Opens file for appending, creates file if it does not exist. |\n",
    "| \"w\"   | Write mode. Opens file for writing, creates file if it does not exist. |\n",
    "| \"x\"   | Create mode. Creates the file, errors if file already exists. |\n",
    "\n",
    "### Additional Modes:\n",
    "| Mode  | Description |\n",
    "|-------|-------------|\n",
    "| \"t\"   | Text mode (default). Reads and writes as text. |\n",
    "| \"b\"   | Binary mode (used for images, etc.). |"
   ]
  },
  {
   "cell_type": "markdown",
   "id": "8571461f",
   "metadata": {},
   "source": [
    "## 4. Opening a File"
   ]
  },
  {
   "cell_type": "code",
   "execution_count": null,
   "id": "161ba184",
   "metadata": {},
   "outputs": [],
   "source": [
    "f = open(\"demofile.txt\")  # Same as open(\"demofile.txt\", \"rt\")"
   ]
  },
  {
   "cell_type": "markdown",
   "id": "3942709a",
   "metadata": {},
   "source": [
    "## 5. Reading a File"
   ]
  },
  {
   "cell_type": "code",
   "execution_count": null,
   "id": "7f592cdf",
   "metadata": {},
   "outputs": [],
   "source": [
    "f = open(\"demofile.txt\", \"r\")\n",
    "print(f.read())"
   ]
  },
  {
   "cell_type": "code",
   "execution_count": null,
   "id": "627a6246",
   "metadata": {},
   "outputs": [],
   "source": [
    "print(f.read(5))  # Read first 5 characters"
   ]
  },
  {
   "cell_type": "code",
   "execution_count": null,
   "id": "7916ac65",
   "metadata": {},
   "outputs": [],
   "source": [
    "print(f.readline())  # Read one line"
   ]
  },
  {
   "cell_type": "code",
   "execution_count": null,
   "id": "653dc652",
   "metadata": {},
   "outputs": [],
   "source": [
    "for line in f:\n",
    "    print(line)  # Read line by line"
   ]
  },
  {
   "cell_type": "markdown",
   "id": "8b0a003a",
   "metadata": {},
   "source": [
    "## 6. Closing a File"
   ]
  },
  {
   "cell_type": "code",
   "execution_count": null,
   "id": "71555e80",
   "metadata": {},
   "outputs": [],
   "source": [
    "f.close()"
   ]
  },
  {
   "cell_type": "markdown",
   "id": "89e28936",
   "metadata": {},
   "source": [
    "## 7. Writing to a File"
   ]
  },
  {
   "cell_type": "code",
   "execution_count": null,
   "id": "1e1210d4",
   "metadata": {},
   "outputs": [],
   "source": [
    "f = open(\"demofile2.txt\", \"a\")\n",
    "f.write(\"Now the file has more content!\")\n",
    "f.close()"
   ]
  },
  {
   "cell_type": "code",
   "execution_count": null,
   "id": "7f826f1c",
   "metadata": {},
   "outputs": [],
   "source": [
    "f = open(\"demofile3.txt\", \"w\")\n",
    "f.write(\"Woops! I have deleted the content!\")\n",
    "f.close()"
   ]
  },
  {
   "cell_type": "markdown",
   "id": "b779d299",
   "metadata": {},
   "source": [
    "## 8. Creating a New File"
   ]
  },
  {
   "cell_type": "code",
   "execution_count": null,
   "id": "fa51acd6",
   "metadata": {},
   "outputs": [],
   "source": [
    "f = open(\"myfile.txt\", \"x\")  # Create file, error if exists"
   ]
  },
  {
   "cell_type": "code",
   "execution_count": null,
   "id": "b0a55941",
   "metadata": {},
   "outputs": [],
   "source": [
    "f = open(\"myfile.txt\", \"w\")  # Create file if not exists"
   ]
  },
  {
   "cell_type": "markdown",
   "id": "d7f2e79f",
   "metadata": {},
   "source": [
    "## 9. Deleting a File"
   ]
  },
  {
   "cell_type": "code",
   "execution_count": null,
   "id": "0d780e64",
   "metadata": {},
   "outputs": [],
   "source": [
    "import os\n",
    "os.remove(\"demofile.txt\")"
   ]
  },
  {
   "cell_type": "code",
   "execution_count": null,
   "id": "1de85655",
   "metadata": {},
   "outputs": [],
   "source": [
    "if os.path.exists(\"demofile.txt\"):\n",
    "    os.remove(\"demofile.txt\")\n",
    "else:\n",
    "    print(\"The file does not exist\")"
   ]
  },
  {
   "cell_type": "code",
   "execution_count": null,
   "id": "7afbc9e2",
   "metadata": {},
   "outputs": [],
   "source": [
    "os.rmdir(\"myfolder\")  # Delete empty folder"
   ]
  },
  {
   "cell_type": "markdown",
   "id": "9f1856ff",
   "metadata": {},
   "source": [
    "## 10. Summary\n",
    "- Use `open()` with modes like \"r\", \"w\", \"a\", and \"x\" to handle files.\n",
    "- Always close files after usage.\n",
    "- Use `os.remove()` to delete files and `os.rmdir()` to remove folders."
   ]
  }
 ],
 "metadata": {
  "kernelspec": {
   "display_name": "Python 3",
   "language": "python",
   "name": "python3"
  },
  "language_info": {
   "name": "python",
   "version": "3.13.1"
  }
 },
 "nbformat": 4,
 "nbformat_minor": 5
}
