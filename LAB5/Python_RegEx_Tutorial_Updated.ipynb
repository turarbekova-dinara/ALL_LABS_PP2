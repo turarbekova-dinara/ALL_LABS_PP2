{
 "cells": [
  {
   "cell_type": "markdown",
   "id": "cc09909f",
   "metadata": {},
   "source": [
    "# Python RegEx (Regular Expressions)\n",
    "Регулярные выражения (RegEx) - это шаблоны, используемые для сопоставления строк."
   ]
  },
  {
   "cell_type": "code",
   "execution_count": null,
   "id": "021ff254",
   "metadata": {},
   "outputs": [],
   "source": [
    "import re"
   ]
  },
  {
   "cell_type": "markdown",
   "id": "c928b11f",
   "metadata": {},
   "source": [
    "## Основные функции модуля `re`"
   ]
  },
  {
   "cell_type": "markdown",
   "id": "bd0dcdad",
   "metadata": {},
   "source": [
    "### 1. `findall()` - Возвращает список всех совпадений"
   ]
  },
  {
   "cell_type": "code",
   "execution_count": null,
   "id": "39bd8a34",
   "metadata": {},
   "outputs": [],
   "source": [
    "txt = \"The rain in Spain\" \n",
    "x = re.findall(\"ai\", txt) \n",
    "print(x)"
   ]
  },
  {
   "cell_type": "markdown",
   "id": "22ab42c2",
   "metadata": {},
   "source": [
    "### 2. `search()` - Ищет первое совпадение и возвращает объект `Match`"
   ]
  },
  {
   "cell_type": "code",
   "execution_count": null,
   "id": "3d3c69f6",
   "metadata": {},
   "outputs": [],
   "source": [
    "txt = \"The rain in Spain\" \n",
    "x = re.search(\"\\s\", txt) \n",
    "print(\"Первый пробел находится на позиции:\", x.start())"
   ]
  },
  {
   "cell_type": "markdown",
   "id": "741a17d0",
   "metadata": {},
   "source": [
    "### 3. `split()` - Разбивает строку по шаблону"
   ]
  },
  {
   "cell_type": "code",
   "execution_count": null,
   "id": "756c6312",
   "metadata": {},
   "outputs": [],
   "source": [
    "txt = \"The rain in Spain\" \n",
    "x = re.split(\"\\s\", txt) \n",
    "print(x)"
   ]
  },
  {
   "cell_type": "markdown",
   "id": "d570fbb1",
   "metadata": {},
   "source": [
    "### 4. `sub()` - Заменяет совпадения на заданную строку"
   ]
  },
  {
   "cell_type": "code",
   "execution_count": null,
   "id": "0d0ff1db",
   "metadata": {},
   "outputs": [],
   "source": [
    "txt = \"The rain in Spain\" \n",
    "x = re.sub(\"\\s\", \"9\", txt) \n",
    "print(x)"
   ]
  },
  {
   "cell_type": "markdown",
   "id": "d32552fc",
   "metadata": {},
   "source": [
    "## Метасимволы (Metacharacters)"
   ]
  },
  {
   "cell_type": "code",
   "execution_count": null,
   "id": "910a3a89",
   "metadata": {},
   "outputs": [],
   "source": [
    "# [] - Набор символов\n",
    "txt = \"cat bat rat\"\n",
    "x = re.findall(\"[cr]at\", txt)\n",
    "print(x)  # ['cat', 'rat']"
   ]
  },
  {
   "cell_type": "code",
   "execution_count": null,
   "id": "042adae3",
   "metadata": {},
   "outputs": [],
   "source": [
    "# \\ - Специальные последовательности\n",
    "txt = \"My number is 12345\"\n",
    "x = re.findall(\"\\d+\", txt)\n",
    "print(x)  # ['12345']"
   ]
  },
  {
   "cell_type": "code",
   "execution_count": null,
   "id": "2014b1e3",
   "metadata": {},
   "outputs": [],
   "source": [
    "# . - Любой символ\n",
    "txt = \"hello hillo h*llo\"\n",
    "x = re.findall(\"h.llo\", txt)\n",
    "print(x)  # ['hello', 'hillo']"
   ]
  },
  {
   "cell_type": "code",
   "execution_count": null,
   "id": "833125b0",
   "metadata": {},
   "outputs": [],
   "source": [
    "# ^ - Начало строки\n",
    "txt = \"hello world\"\n",
    "x = re.findall(\"^hello\", txt)\n",
    "print(x)  # ['hello']"
   ]
  },
  {
   "cell_type": "code",
   "execution_count": null,
   "id": "029ac28e",
   "metadata": {},
   "outputs": [],
   "source": [
    "# $ - Конец строки\n",
    "txt = \"hello world\"\n",
    "x = re.findall(\"world$\", txt)\n",
    "print(x)  # ['world']"
   ]
  },
  {
   "cell_type": "code",
   "execution_count": null,
   "id": "1a98991d",
   "metadata": {},
   "outputs": [],
   "source": [
    "# * - 0 или более повторений\n",
    "txt = \"hello helo heeello\"\n",
    "x = re.findall(\"he.*o\", txt)\n",
    "print(x)  # ['hello', 'helo', 'heeello']"
   ]
  },
  {
   "cell_type": "code",
   "execution_count": null,
   "id": "433d6915",
   "metadata": {},
   "outputs": [],
   "source": [
    "# + - 1 или более повторений\n",
    "txt = \"hello helo heeello\"\n",
    "x = re.findall(\"he.+o\", txt)\n",
    "print(x)  # ['hello', 'heeello']"
   ]
  },
  {
   "cell_type": "code",
   "execution_count": null,
   "id": "2ec0e876",
   "metadata": {},
   "outputs": [],
   "source": [
    "# ? - 0 или 1 повторение\n",
    "txt = \"hello helo heeello\"\n",
    "x = re.findall(\"he.?o\", txt)\n",
    "print(x)  # ['hello', 'helo']"
   ]
  },
  {
   "cell_type": "code",
   "execution_count": null,
   "id": "509d3780",
   "metadata": {},
   "outputs": [],
   "source": [
    "# {} - Точное количество повторений\n",
    "txt = \"hello helo heeello\"\n",
    "x = re.findall(\"he.{2}o\", txt)\n",
    "print(x)  # ['hello']"
   ]
  },
  {
   "cell_type": "code",
   "execution_count": null,
   "id": "8c67580a",
   "metadata": {},
   "outputs": [],
   "source": [
    "# | - Логическое \"или\"\n",
    "txt = \"The rain in Spain falls mainly in the plain\"\n",
    "x = re.findall(\"falls|stays\", txt)\n",
    "print(x)  # ['falls']"
   ]
  },
  {
   "cell_type": "code",
   "execution_count": null,
   "id": "c65aaa9d",
   "metadata": {},
   "outputs": [],
   "source": [
    "# () - Группировка\n",
    "txt = \"apple banana apple\"\n",
    "x = re.findall(\"(apple)\", txt)\n",
    "print(x)  # ['apple', 'apple']"
   ]
  },
  {
   "cell_type": "markdown",
   "id": "96a54745",
   "metadata": {},
   "source": [
    "## Специальные последовательности (Special Sequences)"
   ]
  },
  {
   "cell_type": "code",
   "execution_count": null,
   "id": "7e268215",
   "metadata": {},
   "outputs": [],
   "source": [
    "# \\A - Совпадение в начале строки\n",
    "txt = \"The rain in Spain\"\n",
    "x = re.findall(\"\\AThe\", txt)\n",
    "print(x)  # ['The']"
   ]
  },
  {
   "cell_type": "code",
   "execution_count": null,
   "id": "c7a24300-65d9-4e4d-989b-3223542f2dda",
   "metadata": {},
   "outputs": [],
   "source": [
    "# \\b – Сөздің басында немесе соңында сәйкестік іздейді\n",
    "txt = \"The rain in Spain\"\n",
    "x = re.findall(r\"\\brain\", txt)  # \"rain\" сөздің басында тұр ма?\n",
    "print(x)  # ['rain']\n",
    "\n",
    "y = re.findall(r\"Spain\\b\", txt)  # \"Spain\" сөздің соңында тұр ма?\n",
    "print(y)  # ['Spain']"
   ]
  },
  {
   "cell_type": "code",
   "execution_count": null,
   "id": "21f8c5ab",
   "metadata": {},
   "outputs": [],
   "source": [
    "# \\B - Совпадение НЕ в начале/конце слова\n",
    "txt = \"rainbrain train\"\n",
    "x = re.findall(\"\\Brain\", txt)\n",
    "print(x)  # ['rain']"
   ]
  },
  {
   "cell_type": "code",
   "execution_count": null,
   "id": "0aa030c5-84ae-47cd-a530-3ffaa7e6ff80",
   "metadata": {},
   "outputs": [],
   "source": [
    "# \\d – Сан бар ма\n",
    "txt = \"My number is 12345\"\n",
    "x = re.findall(r\"\\d\", txt)  # Барлық сандарды іздейді\n",
    "print(x)  # ['1', '2', '3', '4', '5']"
   ]
  },
  {
   "cell_type": "code",
   "execution_count": null,
   "id": "469bd902-4443-4112-b1bc-514d74722bf8",
   "metadata": {},
   "outputs": [],
   "source": [
    "# \\D – Сан ЕМЕС символдар\n",
    "txt = \"My number is 12345\"\n",
    "x = re.findall(r\"\\D\", txt)  # Сан ЕМЕС символдарды іздейді\n",
    "print(\"\".join(x))  # My number is "
   ]
  },
  {
   "cell_type": "code",
   "execution_count": null,
   "id": "acc5b213",
   "metadata": {},
   "outputs": [],
   "source": [
    "# \\s – Бос орын (space, tab, newline)\n",
    "import re\n",
    "txt = \"Hello world! How are you?\"\n",
    "x = re.findall(r\"\\s\", txt)  # Барлық бос орындарды іздейді\n",
    "print(x)  # [' ', ' ', ' ', ' ']"
   ]
  },
  {
   "cell_type": "code",
   "execution_count": null,
   "id": "0711b518-aaf8-4030-9a5a-384344a3db04",
   "metadata": {},
   "outputs": [],
   "source": [
    "# \\S - Любой символ, кроме пробела\n",
    "txt = \"Hello World!\"\n",
    "x = re.findall(\"\\S\", txt)\n",
    "print(x)"
   ]
  },
  {
   "cell_type": "code",
   "execution_count": null,
   "id": "1db65355",
   "metadata": {},
   "outputs": [],
   "source": [
    "# \\Z - Совпадение в конце строки\n",
    "txt = \"The rain in Spain\"\n",
    "x = re.findall(\"Spain\\Z\", txt)\n",
    "print(x)  # ['Spain']"
   ]
  },
  {
   "cell_type": "code",
   "execution_count": null,
   "id": "0410e6f4-05a8-46fa-bf97-5b4821342e6d",
   "metadata": {},
   "outputs": [],
   "source": [
    "# \\W - Любой символ, кроме букв и цифр\n",
    "txt = \"Hello, World! 123\"\n",
    "x = re.findall(\"\\W\", txt)\n",
    "print(x)\n",
    "\n",
    "#\\w – Сөздік символдар (a-z, A-Z, 0-9, _)\n"
   ]
  },
  {
   "cell_type": "code",
   "execution_count": null,
   "id": "c81eec5f-ab90-4b1f-86ca-46c9d7348460",
   "metadata": {},
   "outputs": [],
   "source": [
    "# \\W - Любой символ, кроме букв и цифр\n",
    "txt = \"Hello, World! 123\"\n",
    "x = re.findall(\"\\W\", txt)\n",
    "print(x)"
   ]
  },
  {
   "cell_type": "code",
   "execution_count": null,
   "id": "a21ded85-3132-4520-b52f-b50c8121b867",
   "metadata": {},
   "outputs": [],
   "source": [
    "# \\W - Любой символ, кроме букв и цифр\n",
    "txt = \"Hello, World! 123\"\n",
    "x = re.findall(\"\\W\", txt)\n",
    "print(x)"
   ]
  },
  {
   "cell_type": "code",
   "execution_count": null,
   "id": "45968a2d-c267-4284-813c-c219a75306f7",
   "metadata": {},
   "outputs": [],
   "source": [
    "# \\W - Любой символ, кроме букв и цифр\n",
    "txt = \"Hello, World! 123\"\n",
    "x = re.findall(\"\\W\", txt)\n",
    "print(x)"
   ]
  },
  {
   "cell_type": "markdown",
   "id": "4a7171c9",
   "metadata": {},
   "source": [
    "## Наборы (Sets)"
   ]
  },
  {
   "cell_type": "code",
   "execution_count": null,
   "id": "6817ca2a",
   "metadata": {},
   "outputs": [],
   "source": [
    "# [arn] - Один из символов 'a', 'r', 'n'\n",
    "txt = \"rain ran run\"\n",
    "x = re.findall(\"[arn]\", txt)\n",
    "print(x)"
   ]
  },
  {
   "cell_type": "code",
   "execution_count": null,
   "id": "e7d8a67f",
   "metadata": {},
   "outputs": [],
   "source": [
    "# [a-n] - Любая строчная буква от 'a' до 'n'\n",
    "txt = \"hello world\"\n",
    "x = re.findall(\"[a-n]\", txt)\n",
    "print(x)"
   ]
  },
  {
   "cell_type": "code",
   "execution_count": null,
   "id": "28faf428",
   "metadata": {},
   "outputs": [],
   "source": [
    "# [^arn] - Исключая 'a', 'r', 'n'\n",
    "txt = \"rain ran run\"\n",
    "x = re.findall(\"[^arn]\", txt)\n",
    "print(x)"
   ]
  },
  {
   "cell_type": "code",
   "execution_count": null,
   "id": "75ed61b1",
   "metadata": {},
   "outputs": [],
   "source": [
    "# [0123] - Одна из цифр 0, 1, 2, 3\n",
    "txt = \"The year is 2023\"\n",
    "x = re.findall(\"[0123]\", txt)\n",
    "print(x)"
   ]
  },
  {
   "cell_type": "code",
   "execution_count": null,
   "id": "6c1fcf28",
   "metadata": {},
   "outputs": [],
   "source": [
    "# [0-9] - Любая цифра\n",
    "txt = \"The year is 2023\"\n",
    "x = re.findall(\"[0-9]\", txt)\n",
    "print(x)"
   ]
  },
  {
   "cell_type": "code",
   "execution_count": null,
   "id": "0c7f0b73",
   "metadata": {},
   "outputs": [],
   "source": [
    "# [0-5][0-9] - Двузначные числа от 00 до 59\n",
    "txt = \"Minutes: 45, 30, 75\"\n",
    "x = re.findall(\"[0-5][0-9]\", txt)\n",
    "print(x)"
   ]
  },
  {
   "cell_type": "code",
   "execution_count": null,
   "id": "99033b1e",
   "metadata": {},
   "outputs": [],
   "source": [
    "# [a-zA-Z] - Любая буква (строчная или заглавная)\n",
    "txt = \"Hello123\"\n",
    "x = re.findall(\"[a-zA-Z]\", txt)\n",
    "print(x)"
   ]
  },
  {
   "cell_type": "code",
   "execution_count": null,
   "id": "6f9e29f5",
   "metadata": {},
   "outputs": [],
   "source": [
    "# [+] - Символ '+' без спец. значения\n",
    "txt = \"1 + 2 = 3\"\n",
    "x = re.findall(\"[+]\", txt)\n",
    "print(x)"
   ]
  }
 ],
 "metadata": {
  "kernelspec": {
   "display_name": "Python [conda env:base] *",
   "language": "python",
   "name": "conda-base-py"
  },
  "language_info": {
   "codemirror_mode": {
    "name": "ipython",
    "version": 3
   },
   "file_extension": ".py",
   "mimetype": "text/x-python",
   "name": "python",
   "nbconvert_exporter": "python",
   "pygments_lexer": "ipython3",
   "version": "3.12.7"
  }
 },
 "nbformat": 4,
 "nbformat_minor": 5
}
