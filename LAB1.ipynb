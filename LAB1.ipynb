{
 "cells": [
  {
   "cell_type": "markdown",
   "id": "b268d4ac-e15c-470c-a1dc-17c04b2faa43",
   "metadata": {},
   "source": [
    "example"
   ]
  },
  {
   "cell_type": "code",
   "execution_count": 3,
   "id": "aca936d0-1537-441a-8c59-22b988ce59c5",
   "metadata": {},
   "outputs": [
    {
     "name": "stdout",
     "output_type": "stream",
     "text": [
      "Hello, world!\n"
     ]
    }
   ],
   "source": [
    "print(\"Hello, world!\")"
   ]
  },
  {
   "cell_type": "markdown",
   "id": "c940ec98-5168-492e-ab0e-a61486515b1c",
   "metadata": {},
   "source": [
    "python syntax"
   ]
  },
  {
   "cell_type": "code",
   "execution_count": 2,
   "id": "762084e3-3ae5-425c-b26b-b342f4f0ecbe",
   "metadata": {},
   "outputs": [
    {
     "name": "stdout",
     "output_type": "stream",
     "text": [
      "Five is greater than two!\n"
     ]
    }
   ],
   "source": [
    "if 5 > 2:\n",
    "    print(\"Five is greater than two!\")"
   ]
  },
  {
   "cell_type": "markdown",
   "id": "f808ad9b-c9e0-4d1d-be00-bcd0d7a8fca5",
   "metadata": {},
   "source": [
    "Python Comments"
   ]
  },
  {
   "cell_type": "code",
   "execution_count": 5,
   "id": "12b2270c-19d2-4714-84bb-f38028c5080c",
   "metadata": {},
   "outputs": [
    {
     "name": "stdout",
     "output_type": "stream",
     "text": [
      "Hello, World!\n",
      "Cheers, Mate!\n",
      "Hello, World!\n"
     ]
    }
   ],
   "source": [
    "#This is a comment.\n",
    "print(\"Hello, World!\") #This is a comment\n",
    "#print(\"Hello, World!\")\n",
    "print(\"Cheers, Mate!\")\n",
    "\"\"\"\n",
    "This is a comment\n",
    "written in\n",
    "more than just one line\n",
    "\"\"\"\n",
    "print(\"Hello, World!\")"
   ]
  },
  {
   "cell_type": "markdown",
   "id": "2296b389-5418-4a34-ab1d-e4a8941adae8",
   "metadata": {},
   "source": [
    "Python Variables"
   ]
  },
  {
   "cell_type": "code",
   "execution_count": 8,
   "id": "09121052-c584-450b-9bab-b916ce7cad9a",
   "metadata": {},
   "outputs": [
    {
     "name": "stdout",
     "output_type": "stream",
     "text": [
      "5\n",
      "John\n"
     ]
    }
   ],
   "source": [
    "x = 5 # x is of type int\n",
    "y = \"John\" # y is of type str\n",
    "print(x)\n",
    "print(y)"
   ]
  },
  {
   "cell_type": "code",
   "execution_count": 10,
   "id": "5b1b8f71-ab5f-489b-8be0-33004e0e9147",
   "metadata": {},
   "outputs": [
    {
     "name": "stdout",
     "output_type": "stream",
     "text": [
      "3\n",
      "3\n",
      "3.0\n"
     ]
    }
   ],
   "source": [
    "a = str(3)    # a will be '3'\n",
    "b = int(3)    # b will be 3\n",
    "c = float(3)  # c will be 3.0\n",
    "print(a)\n",
    "print(b)\n",
    "print(c)"
   ]
  },
  {
   "cell_type": "code",
   "execution_count": 12,
   "id": "40746ffe-0838-4f79-9e50-1fbcfb78b65c",
   "metadata": {},
   "outputs": [
    {
     "name": "stdout",
     "output_type": "stream",
     "text": [
      "<class 'int'>\n",
      "<class 'str'>\n"
     ]
    }
   ],
   "source": [
    "g = 5\n",
    "d = \"John\"\n",
    "print(type(g))\n",
    "print(type(d))"
   ]
  },
  {
   "cell_type": "code",
   "execution_count": 14,
   "id": "2a205901-ec22-4f7f-8afa-c219c1ccf50b",
   "metadata": {},
   "outputs": [
    {
     "name": "stdout",
     "output_type": "stream",
     "text": [
      "John\n",
      "John\n"
     ]
    }
   ],
   "source": [
    "i = \"John\"\n",
    "# is the same as\n",
    "j = 'John'\n",
    "print(i)\n",
    "print(j)"
   ]
  },
  {
   "cell_type": "code",
   "execution_count": 16,
   "id": "00cfc8e6-cda3-4a24-851d-af646bf9b5fe",
   "metadata": {},
   "outputs": [
    {
     "name": "stdout",
     "output_type": "stream",
     "text": [
      "4\n",
      "Sally\n"
     ]
    }
   ],
   "source": [
    "p = 4\n",
    "P = \"Sally\"\n",
    "#P will not overwrite p\n",
    "print(p)\n",
    "print(P)"
   ]
  },
  {
   "cell_type": "markdown",
   "id": "ee86b470-ef26-44f2-a8ad-7eee925bff5a",
   "metadata": {},
   "source": [
    "Variable Names"
   ]
  },
  {
   "cell_type": "code",
   "execution_count": 5,
   "id": "b343e4a8-1643-4641-8886-368665adf3f4",
   "metadata": {},
   "outputs": [
    {
     "name": "stdout",
     "output_type": "stream",
     "text": [
      "Dinara1\n",
      "Dinara2\n",
      "Dinara3\n",
      "Dinara4\n",
      "Dinara5\n",
      "Dinara6\n"
     ]
    }
   ],
   "source": [
    "myvar = \"Dinara1\"\n",
    "my_var = \"Dinara2\"\n",
    "_my_var = \"Dinara3\"\n",
    "myVar = \"Dinara4\"\n",
    "MYVAR = \"Dinara5\"\n",
    "myvar2 = \"Dinara6\"\n",
    "print(myvar)\n",
    "print(my_var)\n",
    "print(_my_var)\n",
    "print(myVar)\n",
    "print(MYVAR)\n",
    "print(myvar2)"
   ]
  },
  {
   "cell_type": "code",
   "execution_count": 7,
   "id": "c1809861-13e0-43be-8fe9-086ad6d48412",
   "metadata": {},
   "outputs": [
    {
     "name": "stdout",
     "output_type": "stream",
     "text": [
      "Dinara\n",
      "Dinara\n",
      "Dinara\n"
     ]
    }
   ],
   "source": [
    "#Each word, except the first, starts with a capital letter:\n",
    "myVariableName = \"Dinara\"\n",
    "#Each word starts with a capital letter:\n",
    "MyVariableName = \"Dinara\"\n",
    "#Each word is separated by an underscore character:\\\n",
    "my_variable_name = \"Dinara\"\n",
    "print(myVariableName)\n",
    "print(MyVariableName)\n",
    "print(my_variable_name)"
   ]
  },
  {
   "cell_type": "code",
   "execution_count": 9,
   "id": "8506b7e7-9228-4b85-9a28-a20cf1dce0c0",
   "metadata": {},
   "outputs": [
    {
     "name": "stdout",
     "output_type": "stream",
     "text": [
      "apple\n",
      "banana\n",
      "cherry\n"
     ]
    }
   ],
   "source": [
    "#Many Values to Multiple Variables:\n",
    "x, y, z = \"apple\", \"banana\", \"cherry\"\n",
    "print(x)\n",
    "print(y)\n",
    "print(z)"
   ]
  },
  {
   "cell_type": "code",
   "execution_count": 11,
   "id": "e0a98ade-078f-4970-b9f1-f483337fbe32",
   "metadata": {},
   "outputs": [
    {
     "name": "stdout",
     "output_type": "stream",
     "text": [
      "apple\n",
      "banana\n",
      "cherry\n"
     ]
    }
   ],
   "source": [
    "#Unpack a Collection:\n",
    "list = [\"apple\", \"banana\", \"cherry\"]\n",
    "x, y, z = list\n",
    "print(x)\n",
    "print(y)\n",
    "print(z)"
   ]
  },
  {
   "cell_type": "code",
   "execution_count": 15,
   "id": "aadba9fc-909a-41e6-a3e9-ac00b720ad01",
   "metadata": {},
   "outputs": [
    {
     "name": "stdout",
     "output_type": "stream",
     "text": [
      "Python is awesome #1\n",
      "Python is awesome #2\n",
      "Python is awesome #3\n"
     ]
    }
   ],
   "source": [
    "#Output Variables:\n",
    "#1:\n",
    "x = \"Python is awesome #1\"\n",
    "print(x)\n",
    "#2:\n",
    "a = \"Python\"\n",
    "b = \"is\"\n",
    "c = \"awesome #2\"\n",
    "print(a, b, c)\n",
    "#3:\n",
    "d = \"Python \"\n",
    "e = \"is \"\n",
    "f = \"awesome #3\"\n",
    "print(d + e + f)"
   ]
  },
  {
   "cell_type": "code",
   "execution_count": 17,
   "id": "a02e0bed-5d87-41d1-b0f1-2dcd1906cbf5",
   "metadata": {},
   "outputs": [
    {
     "name": "stdout",
     "output_type": "stream",
     "text": [
      "15\n"
     ]
    }
   ],
   "source": [
    "#For numbers, the + character works as a mathematical operator:\n",
    "x = 5\n",
    "y = 10\n",
    "print(x + y)"
   ]
  },
  {
   "cell_type": "code",
   "execution_count": 21,
   "id": "ddbbd896-8cfe-45f6-855e-016493e631a1",
   "metadata": {},
   "outputs": [
    {
     "name": "stdout",
     "output_type": "stream",
     "text": [
      "5 John\n"
     ]
    }
   ],
   "source": [
    "x = 5\n",
    "y = \"John\"\n",
    "print(x, y)"
   ]
  },
  {
   "cell_type": "code",
   "execution_count": 23,
   "id": "e5b86855-cef2-4a40-af8b-afd561c15500",
   "metadata": {},
   "outputs": [
    {
     "name": "stdout",
     "output_type": "stream",
     "text": [
      "Python is awesome\n"
     ]
    }
   ],
   "source": [
    "#Global Variables:\n",
    "x = \"awesome\" #global variable\n",
    "\n",
    "def myfunc():\n",
    "  print(\"Python is \" + x)\n",
    "\n",
    "myfunc()"
   ]
  },
  {
   "cell_type": "code",
   "execution_count": 25,
   "id": "fbdac8e1-d03f-4e4e-9c4a-688313f5b6ca",
   "metadata": {},
   "outputs": [
    {
     "name": "stdout",
     "output_type": "stream",
     "text": [
      "Python is fantastic\n",
      "Python is awesome\n"
     ]
    }
   ],
   "source": [
    "x = \"awesome\"\n",
    "\n",
    "def myfunc():\n",
    "  x = \"fantastic\"\n",
    "  print(\"Python is \" + x)\n",
    "\n",
    "myfunc()\n",
    "\n",
    "print(\"Python is \" + x)"
   ]
  },
  {
   "cell_type": "code",
   "execution_count": 33,
   "id": "8f7824f8-9003-4ce9-b428-78d67f952da1",
   "metadata": {},
   "outputs": [
    {
     "name": "stdout",
     "output_type": "stream",
     "text": [
      "Python is fantastic\n"
     ]
    }
   ],
   "source": [
    "#global keyword\n",
    "def myfunc():\n",
    "  global x\n",
    "  x = \"fantastic\"\n",
    "\n",
    "myfunc()\n",
    "\n",
    "print(\"Python is \" + x)"
   ]
  },
  {
   "cell_type": "code",
   "execution_count": 31,
   "id": "4792968c-597b-4d01-98f0-05c1ece12e09",
   "metadata": {},
   "outputs": [
    {
     "name": "stdout",
     "output_type": "stream",
     "text": [
      "5\n",
      "5\n"
     ]
    }
   ],
   "source": [
    "def just_function():\n",
    "    global x\n",
    "    x = 5\n",
    "    print(x)\n",
    "just_function()\n",
    "print(x)"
   ]
  },
  {
   "cell_type": "code",
   "execution_count": 37,
   "id": "809680ee-2ee1-4005-9c6a-6b857c623d4b",
   "metadata": {},
   "outputs": [
    {
     "name": "stdout",
     "output_type": "stream",
     "text": [
      "Python is fantastic\n"
     ]
    }
   ],
   "source": [
    "x = \"awesome\"\n",
    "def myfunc():\n",
    "  global x\n",
    "  x = \"fantastic\"\n",
    "\n",
    "myfunc()\n",
    "\n",
    "print(\"Python is \" + x)"
   ]
  },
  {
   "cell_type": "markdown",
   "id": "8078c763-6ddd-4bf4-97b9-64424eb05cda",
   "metadata": {},
   "source": [
    "Python Data Types"
   ]
  },
  {
   "cell_type": "code",
   "execution_count": 40,
   "id": "373eb876-b18f-4186-84c6-12f9d3422c4c",
   "metadata": {},
   "outputs": [
    {
     "name": "stdout",
     "output_type": "stream",
     "text": [
      "<class 'int'>\n"
     ]
    }
   ],
   "source": [
    "x = 5\n",
    "print(type(x))"
   ]
  },
  {
   "cell_type": "code",
   "execution_count": 42,
   "id": "3a097005-6eab-4c23-b5f9-1d107d467a30",
   "metadata": {},
   "outputs": [
    {
     "name": "stdout",
     "output_type": "stream",
     "text": [
      "<class 'str'>\n"
     ]
    }
   ],
   "source": [
    "x = \"dinara\"\n",
    "print(type(x))"
   ]
  },
  {
   "cell_type": "code",
   "execution_count": 44,
   "id": "481f0e16-eef7-4582-9900-a1affb9fc8bb",
   "metadata": {},
   "outputs": [
    {
     "name": "stdout",
     "output_type": "stream",
     "text": [
      "<class 'float'>\n"
     ]
    }
   ],
   "source": [
    "x = 20.5\n",
    "print(type(x))"
   ]
  },
  {
   "cell_type": "code",
   "execution_count": 46,
   "id": "e2bee57f-f39a-4812-b81c-fff1f1cd6be8",
   "metadata": {},
   "outputs": [
    {
     "name": "stdout",
     "output_type": "stream",
     "text": [
      "<class 'complex'>\n"
     ]
    }
   ],
   "source": [
    "x = 2j\n",
    "print(type(x))"
   ]
  },
  {
   "cell_type": "code",
   "execution_count": 48,
   "id": "cf65a76e-f068-4947-aee9-e171753baacd",
   "metadata": {},
   "outputs": [
    {
     "name": "stdout",
     "output_type": "stream",
     "text": [
      "<class 'list'>\n"
     ]
    }
   ],
   "source": [
    "x = [1, 2, 3]\n",
    "print(type(x))"
   ]
  },
  {
   "cell_type": "code",
   "execution_count": 50,
   "id": "771438a7-7142-461d-acfa-5a8643b38853",
   "metadata": {},
   "outputs": [
    {
     "name": "stdout",
     "output_type": "stream",
     "text": [
      "<class 'tuple'>\n"
     ]
    }
   ],
   "source": [
    "x = (1, 2, 3)\n",
    "print(type(x))"
   ]
  },
  {
   "cell_type": "code",
   "execution_count": 54,
   "id": "1bee7e94-313f-479f-a521-c55243f40081",
   "metadata": {},
   "outputs": [
    {
     "name": "stdout",
     "output_type": "stream",
     "text": [
      "range(0, 3)\n",
      "<class 'range'>\n"
     ]
    }
   ],
   "source": [
    "x = range(3)\n",
    "print(x)\n",
    "print(type(x))"
   ]
  },
  {
   "cell_type": "code",
   "execution_count": 56,
   "id": "8683f812-ece6-4561-850f-08178c395b3d",
   "metadata": {},
   "outputs": [
    {
     "name": "stdout",
     "output_type": "stream",
     "text": [
      "<class 'dict'>\n"
     ]
    }
   ],
   "source": [
    "x = {\"name\" : \"Dinara\", \"age\" : 18}\n",
    "print(type(x))"
   ]
  },
  {
   "cell_type": "code",
   "execution_count": 58,
   "id": "3848aa5c-0af5-460f-8850-3fdd0ab940ae",
   "metadata": {},
   "outputs": [
    {
     "name": "stdout",
     "output_type": "stream",
     "text": [
      "<class 'set'>\n"
     ]
    }
   ],
   "source": [
    "x = {\"dinara\", 18, 'a'}\n",
    "print(type(x))"
   ]
  },
  {
   "cell_type": "code",
   "execution_count": 60,
   "id": "9cf18be2-18b2-42a1-b191-79710a5f243c",
   "metadata": {},
   "outputs": [
    {
     "name": "stdout",
     "output_type": "stream",
     "text": [
      "<class 'frozenset'>\n"
     ]
    }
   ],
   "source": [
    "x = frozenset({1,2,3,4,5,6,7})\n",
    "print(type(x))"
   ]
  },
  {
   "cell_type": "code",
   "execution_count": 62,
   "id": "825c164e-53fb-4371-a585-1c3530b2f0a4",
   "metadata": {},
   "outputs": [
    {
     "name": "stdout",
     "output_type": "stream",
     "text": [
      "<class 'bool'>\n"
     ]
    }
   ],
   "source": [
    "x = True\n",
    "print(type(x))"
   ]
  },
  {
   "cell_type": "code",
   "execution_count": 64,
   "id": "75818f44-0e7f-402b-b487-133a4eb7de66",
   "metadata": {},
   "outputs": [
    {
     "name": "stdout",
     "output_type": "stream",
     "text": [
      "<class 'bytes'>\n"
     ]
    }
   ],
   "source": [
    "x = b\"Hello\"\n",
    "print(type(x))"
   ]
  },
  {
   "cell_type": "code",
   "execution_count": 68,
   "id": "b87d13ec-c084-43e6-8e28-4d12e60ffe96",
   "metadata": {},
   "outputs": [
    {
     "name": "stdout",
     "output_type": "stream",
     "text": [
      "<class 'bytearray'>\n"
     ]
    }
   ],
   "source": [
    "x = bytearray(6)\n",
    "print(type(x))"
   ]
  },
  {
   "cell_type": "code",
   "execution_count": 70,
   "id": "74250d1f-aeac-46a2-b843-847c8c7be804",
   "metadata": {},
   "outputs": [
    {
     "name": "stdout",
     "output_type": "stream",
     "text": [
      "<class 'memoryview'>\n"
     ]
    }
   ],
   "source": [
    "x = memoryview(bytes(5))\n",
    "print(type(x))"
   ]
  },
  {
   "cell_type": "code",
   "execution_count": 72,
   "id": "36b9f946-f7ce-421a-bf88-f41708ca33b6",
   "metadata": {},
   "outputs": [
    {
     "name": "stdout",
     "output_type": "stream",
     "text": [
      "<class 'NoneType'>\n"
     ]
    }
   ],
   "source": [
    "x = None\n",
    "print(type(x))"
   ]
  },
  {
   "cell_type": "markdown",
   "id": "5cc80aa2-6512-41f9-8706-88f09e53f9ce",
   "metadata": {},
   "source": [
    "Python Numbers"
   ]
  },
  {
   "cell_type": "code",
   "execution_count": 87,
   "id": "7eb995e2-7160-4442-88d6-5fcf11545cbc",
   "metadata": {},
   "outputs": [
    {
     "name": "stdout",
     "output_type": "stream",
     "text": [
      "1 <class 'int'>\n",
      "2.8 <class 'float'>\n",
      "1j <class 'complex'>\n"
     ]
    }
   ],
   "source": [
    "x = 1    # int\n",
    "y = 2.8  # float\n",
    "z = 1j   # complex\n",
    "print(x, type(x))\n",
    "print(y, type(y))\n",
    "print(z, type(z))"
   ]
  },
  {
   "cell_type": "code",
   "execution_count": 89,
   "id": "59cd2794-537c-427a-8148-6330b5a1f8c8",
   "metadata": {},
   "outputs": [
    {
     "name": "stdout",
     "output_type": "stream",
     "text": [
      "<class 'int'>\n",
      "<class 'int'>\n",
      "<class 'int'>\n"
     ]
    }
   ],
   "source": [
    "x = 1\n",
    "y = 35656222554887711\n",
    "z = -3255522\n",
    "\n",
    "print(type(x))\n",
    "print(type(y))\n",
    "print(type(z))"
   ]
  },
  {
   "cell_type": "code",
   "execution_count": 93,
   "id": "fc12ee47-eec3-4443-b371-3fa7f332c781",
   "metadata": {},
   "outputs": [
    {
     "name": "stdout",
     "output_type": "stream",
     "text": [
      "<class 'float'>\n",
      "<class 'float'>\n",
      "<class 'float'>\n"
     ]
    }
   ],
   "source": [
    "x = 1.10\n",
    "y = 1.0\n",
    "z = -35.59\n",
    "\n",
    "print(type(x))\n",
    "print(type(y))\n",
    "print(type(z))"
   ]
  },
  {
   "cell_type": "code",
   "execution_count": 95,
   "id": "9146365b-0bfa-4bff-91ae-330809a30882",
   "metadata": {},
   "outputs": [
    {
     "name": "stdout",
     "output_type": "stream",
     "text": [
      "<class 'float'>\n",
      "<class 'float'>\n",
      "<class 'float'>\n"
     ]
    }
   ],
   "source": [
    "x = 35e3\n",
    "y = 12E4\n",
    "z = -87.7e100\n",
    "\n",
    "print(type(x))\n",
    "print(type(y))\n",
    "print(type(z))"
   ]
  },
  {
   "cell_type": "code",
   "execution_count": 97,
   "id": "e185a619-fb45-4d9c-b664-999bfbcc2f90",
   "metadata": {},
   "outputs": [
    {
     "name": "stdout",
     "output_type": "stream",
     "text": [
      "<class 'complex'>\n",
      "<class 'complex'>\n",
      "<class 'complex'>\n"
     ]
    }
   ],
   "source": [
    "x = 3+5j\n",
    "y = 5j\n",
    "z = -5j\n",
    "\n",
    "print(type(x))\n",
    "print(type(y))\n",
    "print(type(z))"
   ]
  },
  {
   "cell_type": "code",
   "execution_count": 111,
   "id": "02773da2-fbfe-429a-b9f3-233567f3e7e3",
   "metadata": {},
   "outputs": [
    {
     "name": "stdout",
     "output_type": "stream",
     "text": [
      "3\n",
      "12.0\n",
      "(12+0j)\n",
      "(3.6+0j)\n",
      "<class 'int'>\n",
      "<class 'float'>\n",
      "<class 'complex'>\n",
      "<class 'complex'>\n"
     ]
    }
   ],
   "source": [
    "x = 12\n",
    "y = 3.6\n",
    "z = 4j\n",
    "\n",
    "a1 = int(y) #float to int\n",
    "#a2 = int(z) #!!!\n",
    "b1 = float(x) #int to float\n",
    "#b2 = float(z) #!!!\n",
    "c1 = complex(x) #int to complex\n",
    "c2 = complex(y) #float to complex\n",
    "\n",
    "print(a1)\n",
    "#print(a2)\n",
    "print(b1)\n",
    "#print(b2)\n",
    "print(c1)\n",
    "print(c2)\n",
    "\n",
    "print(type(a1))\n",
    "#print(type(a2))\n",
    "print(type(b1))\n",
    "#print(type(b2))\n",
    "print(type(c1))\n",
    "print(type(c2))"
   ]
  },
  {
   "cell_type": "code",
   "execution_count": 120,
   "id": "39599718-3028-41d4-b14b-5f5cc05b09a4",
   "metadata": {},
   "outputs": [
    {
     "name": "stdout",
     "output_type": "stream",
     "text": [
      "8\n"
     ]
    }
   ],
   "source": [
    "#Random Number:\n",
    "import random\n",
    "print(random.randrange(1, 10))"
   ]
  },
  {
   "cell_type": "markdown",
   "id": "ecd61743-e9fb-4dec-a7b3-7e43d261246c",
   "metadata": {},
   "source": [
    "Python Casting"
   ]
  },
  {
   "cell_type": "code",
   "execution_count": 127,
   "id": "3679ef42-c843-4aa9-be4e-f79a4697700f",
   "metadata": {},
   "outputs": [
    {
     "name": "stdout",
     "output_type": "stream",
     "text": [
      "1 2 3\n"
     ]
    }
   ],
   "source": [
    "x = int(1)\n",
    "y = int(2.8)\n",
    "z = int(\"3\")\n",
    "print(x,y,z)"
   ]
  },
  {
   "cell_type": "code",
   "execution_count": 129,
   "id": "54728853-971a-4653-b5ea-07376ec20677",
   "metadata": {},
   "outputs": [
    {
     "name": "stdout",
     "output_type": "stream",
     "text": [
      "3.8 3.0 3.0 3.8\n"
     ]
    }
   ],
   "source": [
    "x = float(3.8)\n",
    "y = float(3)\n",
    "z = float(\"3\")\n",
    "w = float(\"3.8\")\n",
    "print(x,y,z,w)"
   ]
  },
  {
   "cell_type": "markdown",
   "id": "0dced1e1-12ef-4fe0-bc0b-7e51ed3d1bc0",
   "metadata": {},
   "source": [
    "Python Strings"
   ]
  },
  {
   "cell_type": "code",
   "execution_count": 132,
   "id": "1d7731fd-1b83-4dc6-8bc2-ba9834651836",
   "metadata": {},
   "outputs": [
    {
     "name": "stdout",
     "output_type": "stream",
     "text": [
      "Hi\n",
      "heillo\n"
     ]
    }
   ],
   "source": [
    "print(\"Hi\")\n",
    "print('heillo')"
   ]
  },
  {
   "cell_type": "code",
   "execution_count": 142,
   "id": "1b6d0a22-f088-49c7-a09f-631a706d33f0",
   "metadata": {},
   "outputs": [
    {
     "name": "stdout",
     "output_type": "stream",
     "text": [
      "Hello, my name is 'Dinara'\n",
      "Hello, my name is \"Dinara\"\n"
     ]
    }
   ],
   "source": [
    "#Quotes Inside Quotes:\n",
    "\n",
    "print(\"Hello, my name is 'Dinara'\")\n",
    "\n",
    "print('Hello, my name is \"Dinara\"')"
   ]
  },
  {
   "cell_type": "code",
   "execution_count": 146,
   "id": "c63181bb-7d6a-4083-b7f0-d2300dcc1332",
   "metadata": {},
   "outputs": [
    {
     "name": "stdout",
     "output_type": "stream",
     "text": [
      "Hello!\n"
     ]
    }
   ],
   "source": [
    "#Assign String to a Variable:\n",
    "x = \"Hello!\"\n",
    "print(x)"
   ]
  },
  {
   "cell_type": "code",
   "execution_count": 162,
   "id": "c8650ce6-1f65-4e9e-8279-a521d54b86be",
   "metadata": {},
   "outputs": [
    {
     "name": "stdout",
     "output_type": "stream",
     "text": [
      "hello\n",
      "this\n",
      "is \n",
      "python\n",
      "\n",
      "HI\n",
      "THIS\n",
      "IS \n",
      "ALSO\n",
      "PYTHON\n",
      "\n"
     ]
    }
   ],
   "source": [
    "#Multiline Strings:\n",
    "a = \"\"\"hello\n",
    "this\n",
    "is \n",
    "python\n",
    "\"\"\"\n",
    "b = '''HI\n",
    "THIS\n",
    "IS \n",
    "ALSO\n",
    "PYTHON\n",
    "'''\n",
    "print(a)\n",
    "print(b)"
   ]
  },
  {
   "cell_type": "code",
   "execution_count": 164,
   "id": "47127085-54bd-4203-972c-44b1889902f9",
   "metadata": {},
   "outputs": [
    {
     "name": "stdout",
     "output_type": "stream",
     "text": [
      "e\n"
     ]
    }
   ],
   "source": [
    "#Strings are Arrays:\n",
    "a = \"Hello\"\n",
    "print(a[1])"
   ]
  },
  {
   "cell_type": "code",
   "execution_count": 170,
   "id": "3165547f-8dc9-4414-90d4-3c8071cd6724",
   "metadata": {},
   "outputs": [
    {
     "name": "stdout",
     "output_type": "stream",
     "text": [
      "D\n",
      "i\n",
      "n\n",
      "a\n",
      "r\n",
      "a\n"
     ]
    }
   ],
   "source": [
    "#Looping Through a String:\n",
    "for i in \"Dinara\":\n",
    "    print(i)"
   ]
  },
  {
   "cell_type": "code",
   "execution_count": 172,
   "id": "93d14b1f-8c2d-4d8c-95e0-9bc05945eebf",
   "metadata": {},
   "outputs": [
    {
     "name": "stdout",
     "output_type": "stream",
     "text": [
      "H\n",
      "e\n",
      "l\n",
      "l\n",
      "o\n"
     ]
    }
   ],
   "source": [
    "x = \"Hello\"\n",
    "for i in x:\n",
    "    print(i)"
   ]
  },
  {
   "cell_type": "code",
   "execution_count": 174,
   "id": "e1796488-97b6-49af-9c7e-35f600624252",
   "metadata": {},
   "outputs": [
    {
     "name": "stdout",
     "output_type": "stream",
     "text": [
      "6\n"
     ]
    }
   ],
   "source": [
    "#String Length:\n",
    "s = \"Python\"\n",
    "print(len(s))"
   ]
  },
  {
   "cell_type": "code",
   "execution_count": 178,
   "id": "17f23491-c9c4-44fd-b6cf-43fd899d57a2",
   "metadata": {},
   "outputs": [
    {
     "name": "stdout",
     "output_type": "stream",
     "text": [
      "True\n",
      "False\n"
     ]
    }
   ],
   "source": [
    "#Check String:\n",
    "text = \"hello world\"\n",
    "print(\"hello\" in text)\n",
    "print(\"Dinara\" in text)"
   ]
  },
  {
   "cell_type": "code",
   "execution_count": 182,
   "id": "00655ca0-0ef5-4b22-90d1-ac81a8a7d4dc",
   "metadata": {},
   "outputs": [
    {
     "name": "stdout",
     "output_type": "stream",
     "text": [
      "Yes 'apple' is here\n",
      "Yes 'mango' is not here\n"
     ]
    }
   ],
   "source": [
    "foods = \"apple cake sugar\"\n",
    "if \"apple\" in foods:\n",
    "    print(\"Yes 'apple' is here\")\n",
    "if \"mango\" not in foods:\n",
    "    print(\"Yes 'mango' is not here\")"
   ]
  },
  {
   "cell_type": "code",
   "execution_count": 186,
   "id": "190592c4-81b8-4c22-9fb4-ea2ebe9d95fa",
   "metadata": {},
   "outputs": [
    {
     "name": "stdout",
     "output_type": "stream",
     "text": [
      "python\n"
     ]
    }
   ],
   "source": [
    "#Slicing Strings:\n",
    "text = \"I love python\"\n",
    "print(text[7:13])"
   ]
  },
  {
   "cell_type": "code",
   "execution_count": 188,
   "id": "2244a726-13ea-40f7-b8ec-d69173f06bfb",
   "metadata": {},
   "outputs": [
    {
     "name": "stdout",
     "output_type": "stream",
     "text": [
      "hello\n"
     ]
    }
   ],
   "source": [
    "t = \"hello world\"\n",
    "print(t[:5])"
   ]
  },
  {
   "cell_type": "code",
   "execution_count": 192,
   "id": "fb81a649-7897-4991-abbe-a6fd4aeea870",
   "metadata": {},
   "outputs": [
    {
     "name": "stdout",
     "output_type": "stream",
     "text": [
      "Dinara\n"
     ]
    }
   ],
   "source": [
    "d = \"My name is Dinara\"\n",
    "print(d[11:])"
   ]
  },
  {
   "cell_type": "code",
   "execution_count": 213,
   "id": "1bb3502d-b920-4f82-837f-762c803ff7c5",
   "metadata": {},
   "outputs": [
    {
     "name": "stdout",
     "output_type": "stream",
     "text": [
      "orl\n"
     ]
    }
   ],
   "source": [
    "b = \"Hello, World!\"\n",
    "print(b[-5:-2])"
   ]
  },
  {
   "cell_type": "markdown",
   "id": "7b8cb77e-5121-4d96-924f-b03d1981dc99",
   "metadata": {},
   "source": [
    "String Methods"
   ]
  },
  {
   "cell_type": "code",
   "execution_count": 198,
   "id": "97a7881d-7b89-4b58-a817-66ae9ec3c29c",
   "metadata": {},
   "outputs": [
    {
     "name": "stdout",
     "output_type": "stream",
     "text": [
      "HELLO, WORLD!\n"
     ]
    }
   ],
   "source": [
    "a = \"Hello, World!\"\n",
    "print(a.upper())"
   ]
  },
  {
   "cell_type": "code",
   "execution_count": 200,
   "id": "23caab19-c5e8-4aaf-a491-40fb35ce325e",
   "metadata": {},
   "outputs": [
    {
     "name": "stdout",
     "output_type": "stream",
     "text": [
      "hello, world!\n"
     ]
    }
   ],
   "source": [
    "a = \"Hello, World!\"\n",
    "print(a.lower())"
   ]
  },
  {
   "cell_type": "code",
   "execution_count": 204,
   "id": "cec31163-755d-4992-bae1-81f110fb5823",
   "metadata": {},
   "outputs": [
    {
     "name": "stdout",
     "output_type": "stream",
     "text": [
      "Hello, World!\n"
     ]
    }
   ],
   "source": [
    "#The strip() method removes any whitespace from the \"beginning\" or the \"end\":\n",
    "a = \" Hello, World! \"\n",
    "print(a.strip())"
   ]
  },
  {
   "cell_type": "code",
   "execution_count": 206,
   "id": "4f9a5d40-a5d3-4c60-95c0-2cc742800268",
   "metadata": {},
   "outputs": [
    {
     "name": "stdout",
     "output_type": "stream",
     "text": [
      "Jello, World!\n"
     ]
    }
   ],
   "source": [
    "a = \"Hello, World!\"\n",
    "print(a.replace(\"H\", \"J\"))"
   ]
  },
  {
   "cell_type": "code",
   "execution_count": 208,
   "id": "a4d9fbcd-60d7-410b-8d96-2aeb7bec3a0f",
   "metadata": {},
   "outputs": [
    {
     "name": "stdout",
     "output_type": "stream",
     "text": [
      "['Hello', ' World!']\n"
     ]
    }
   ],
   "source": [
    "#The split() method splits the string into substrings if it finds instances of the separator:\n",
    "a = \"Hello, World!\"\n",
    "print(a.split(\",\"))"
   ]
  },
  {
   "cell_type": "markdown",
   "id": "e1b2d8ce-836f-43f8-b570-b34a357d051e",
   "metadata": {},
   "source": [
    "String Concatenation"
   ]
  },
  {
   "cell_type": "code",
   "execution_count": 216,
   "id": "4d19849f-e5df-41fb-b022-479ab7d0bb5c",
   "metadata": {},
   "outputs": [
    {
     "name": "stdout",
     "output_type": "stream",
     "text": [
      "HelloWorld\n"
     ]
    }
   ],
   "source": [
    "a = \"Hello\"\n",
    "b = \"World\"\n",
    "c = a + b\n",
    "print(c)"
   ]
  },
  {
   "cell_type": "code",
   "execution_count": 218,
   "id": "8ffc67d7-9379-4e20-a6fd-facd30a672b2",
   "metadata": {},
   "outputs": [
    {
     "name": "stdout",
     "output_type": "stream",
     "text": [
      "Hello World\n"
     ]
    }
   ],
   "source": [
    "a = \"Hello\"\n",
    "b = \"World\"\n",
    "c = a + \" \" + b\n",
    "print(c)"
   ]
  },
  {
   "cell_type": "markdown",
   "id": "432a9b68-821c-4b0b-85f2-845da91676e2",
   "metadata": {},
   "source": [
    "Format - Strings"
   ]
  },
  {
   "cell_type": "code",
   "execution_count": 223,
   "id": "54f17f4e-f042-49b5-8dcc-79405192eda6",
   "metadata": {},
   "outputs": [
    {
     "name": "stdout",
     "output_type": "stream",
     "text": [
      "My name is Dinara. I am 18.\n"
     ]
    }
   ],
   "source": [
    "#F-Strings:\n",
    "age = 18\n",
    "text = f\"My name is Dinara. I am {age}.\"\n",
    "print(text)"
   ]
  },
  {
   "cell_type": "code",
   "execution_count": 229,
   "id": "eba4f87d-3b04-474a-af44-2ff1d0cb4e01",
   "metadata": {},
   "outputs": [
    {
     "name": "stdout",
     "output_type": "stream",
     "text": [
      "The price is 59.00000 dollars\n"
     ]
    }
   ],
   "source": [
    "#point number with n decimals:\n",
    "price = 59\n",
    "txt = f\"The price is {price:.5f} dollars\"\n",
    "print(txt)"
   ]
  },
  {
   "cell_type": "code",
   "execution_count": 231,
   "id": "3df52fb6-6f6b-496c-a17d-9b36d53526c0",
   "metadata": {},
   "outputs": [
    {
     "name": "stdout",
     "output_type": "stream",
     "text": [
      "The price is 600 dollar\n"
     ]
    }
   ],
   "source": [
    "#operation in the placeholder:\n",
    "text = f\"The price is {20*30} dollar\"\n",
    "print(text)"
   ]
  },
  {
   "cell_type": "markdown",
   "id": "17bcba67-fc60-4409-a8e8-e1a1c58ee675",
   "metadata": {},
   "source": [
    "Escape Characters"
   ]
  },
  {
   "cell_type": "code",
   "execution_count": 254,
   "id": "91e0e224-1bb2-4dc7-8862-c33aa2a399a5",
   "metadata": {},
   "outputs": [
    {
     "name": "stdout",
     "output_type": "stream",
     "text": [
      "\"Dinara\"\n",
      "'Hello'\n",
      "just \\\n",
      "-Hello\n",
      "-world\n",
      "Hi\tPython\n",
      "HelloWorld!\n",
      "Hello\n",
      "Hello\n"
     ]
    }
   ],
   "source": [
    "txt = \"\\\"Dinara\\\"\"     #\\\"\n",
    "print(txt)         \n",
    "a = \"\\'Hello\\'\"        #\\'\n",
    "print(a)\n",
    "b = \"just \\\\\"          #\\\\\n",
    "print(b)\n",
    "c = \"-Hello\\n-world\"   #\\n or \\r?\n",
    "print(c)\n",
    "d = \"Hi\\tPython\"       #\\t\n",
    "print(d)\n",
    "txt = \"Hello \\bWorld!\" #\\b\n",
    "print(txt) \n",
    "\n",
    "#A backslash followed by three integers will result in a octal value: \\ooo\n",
    "txt = \"\\110\\145\\154\\154\\157\"\n",
    "print(txt)\n",
    "#A backslash followed by an 'x' and a hex number represents a hex value: \\xhh\n",
    "txt = \"\\x48\\x65\\x6c\\x6c\\x6f\"\n",
    "print(txt)"
   ]
  },
  {
   "cell_type": "markdown",
   "id": "6a63bafe-563b-450e-b979-6ee11c6f208b",
   "metadata": {},
   "source": [
    "Python User Input"
   ]
  },
  {
   "cell_type": "code",
   "execution_count": 257,
   "id": "2351b6f5-d208-4ad5-a9c5-d5bc7325ac11",
   "metadata": {},
   "outputs": [
    {
     "name": "stdin",
     "output_type": "stream",
     "text": [
      "Enter username: Dinara\n"
     ]
    },
    {
     "name": "stdout",
     "output_type": "stream",
     "text": [
      "Username is: Dinara\n"
     ]
    }
   ],
   "source": [
    "username = input(\"Enter username:\")\n",
    "print(\"Username is: \" + username)"
   ]
  },
  {
   "cell_type": "markdown",
   "id": "6183a689-d4d0-4043-a9e3-d7e174d70a1f",
   "metadata": {},
   "source": [
    "Python String Formatting"
   ]
  },
  {
   "cell_type": "code",
   "execution_count": 260,
   "id": "35b1a9f4-e04b-4491-ab45-06474f934bdf",
   "metadata": {},
   "outputs": [
    {
     "name": "stdout",
     "output_type": "stream",
     "text": [
      "It is very Cheap\n"
     ]
    }
   ],
   "source": [
    "price = 49\n",
    "txt = f\"It is very {'Expensive' if price>50 else 'Cheap'}\"\n",
    "\n",
    "print(txt)"
   ]
  },
  {
   "cell_type": "code",
   "execution_count": 262,
   "id": "1b9b719d-6d85-4c51-918b-b3a6b0d34089",
   "metadata": {},
   "outputs": [
    {
     "name": "stdout",
     "output_type": "stream",
     "text": [
      "I love APPLES\n"
     ]
    }
   ],
   "source": [
    "fruit = \"apples\"\n",
    "txt = f\"I love {fruit.upper()}\"\n",
    "print(txt)"
   ]
  },
  {
   "cell_type": "code",
   "execution_count": 270,
   "id": "07b16f1c-1ff2-489d-bf39-e19b7c0cba8f",
   "metadata": {},
   "outputs": [
    {
     "name": "stdout",
     "output_type": "stream",
     "text": [
      "The price is 59,000 dollars\n"
     ]
    }
   ],
   "source": [
    "price = 59000\n",
    "txt = f\"The price is {price:,} dollars\"\n",
    "print(txt)"
   ]
  },
  {
   "cell_type": "code",
   "execution_count": 272,
   "id": "bf60d727-0c1e-468b-8fdb-90738fab7f26",
   "metadata": {},
   "outputs": [
    {
     "name": "stdout",
     "output_type": "stream",
     "text": [
      "The plane is flying at a 9144.0 meter altitude\n"
     ]
    }
   ],
   "source": [
    "def myconverter(x):\n",
    "  return x * 0.3048\n",
    "\n",
    "txt = f\"The plane is flying at a {myconverter(30000)} meter altitude\"\n",
    "print(txt)"
   ]
  },
  {
   "cell_type": "code",
   "execution_count": 276,
   "id": "5570cd6d-4c4d-49c0-8a45-eae2051e7254",
   "metadata": {},
   "outputs": [
    {
     "name": "stdout",
     "output_type": "stream",
     "text": [
      "The price is 49 dollars\n"
     ]
    }
   ],
   "source": [
    "price = 49\n",
    "txt = \"The price is {} dollars\"\n",
    "print(txt.format(price)) \n",
    "#its like f\"The price is {price} dollars\""
   ]
  },
  {
   "cell_type": "code",
   "execution_count": 278,
   "id": "68db36ae-0bda-49a5-b234-4eea37d5465b",
   "metadata": {},
   "outputs": [
    {
     "name": "stdout",
     "output_type": "stream",
     "text": [
      "I want 3 pieces of item number 567 for 49.00 dollars.\n"
     ]
    }
   ],
   "source": [
    "#with more:\n",
    "quantity = 3\n",
    "itemno = 567\n",
    "price = 49\n",
    "myorder = \"I want {} pieces of item number {} for {:.2f} dollars.\"\n",
    "print(myorder.format(quantity, itemno, price))"
   ]
  },
  {
   "cell_type": "code",
   "execution_count": 280,
   "id": "48bb3d51-1f84-4057-a87b-46b57cae50d7",
   "metadata": {},
   "outputs": [
    {
     "name": "stdout",
     "output_type": "stream",
     "text": [
      "I want 3 pieces of item number 567 for 49.00 dollars.\n"
     ]
    }
   ],
   "source": [
    "#with Index Numbers:\n",
    "quantity = 3\n",
    "itemno = 567\n",
    "price = 49\n",
    "myorder = \"I want {0} pieces of item number {1} for {2:.2f} dollars.\"\n",
    "print(myorder.format(quantity, itemno, price))"
   ]
  },
  {
   "cell_type": "code",
   "execution_count": 282,
   "id": "d8efb586-d219-4e78-8b1f-6739e7aa3688",
   "metadata": {},
   "outputs": [
    {
     "name": "stdout",
     "output_type": "stream",
     "text": [
      "His name is John. John is 36 years old.\n"
     ]
    }
   ],
   "source": [
    "age = 36\n",
    "name = \"John\"\n",
    "txt = \"His name is {1}. {1} is {0} years old.\"\n",
    "print(txt.format(age, name))"
   ]
  },
  {
   "cell_type": "code",
   "execution_count": 290,
   "id": "3aa5400f-09e1-4bc0-ad94-0357f7802219",
   "metadata": {},
   "outputs": [
    {
     "name": "stdout",
     "output_type": "stream",
     "text": [
      "My name is Dinara. I am 18.\n"
     ]
    }
   ],
   "source": [
    "text = \"My name is {name}. I am {age}.\"\n",
    "print(text.format(name = \"Dinara\", age = 18))"
   ]
  },
  {
   "cell_type": "markdown",
   "id": "c29feeb0-e999-4f7e-ba7e-21d9391e6df2",
   "metadata": {},
   "source": [
    "Python Booleans"
   ]
  },
  {
   "cell_type": "code",
   "execution_count": 293,
   "id": "94b00f03-a272-408a-b542-a30f81befa5a",
   "metadata": {},
   "outputs": [
    {
     "name": "stdout",
     "output_type": "stream",
     "text": [
      "True\n",
      "False\n",
      "False\n"
     ]
    }
   ],
   "source": [
    "print(10 > 9)\n",
    "print(10 == 9)\n",
    "print(10 < 9)"
   ]
  },
  {
   "cell_type": "code",
   "execution_count": 295,
   "id": "01d81217-0087-4daa-91ba-78fd6d7c6aba",
   "metadata": {},
   "outputs": [
    {
     "name": "stdout",
     "output_type": "stream",
     "text": [
      "b is not greater than a\n"
     ]
    }
   ],
   "source": [
    "a = 200\n",
    "b = 33\n",
    "\n",
    "if b > a:\n",
    "  print(\"b is greater than a\")\n",
    "else:\n",
    "  print(\"b is not greater than a\")"
   ]
  },
  {
   "cell_type": "code",
   "execution_count": 299,
   "id": "123fa388-ec7b-4f78-946d-4412ce8f184f",
   "metadata": {},
   "outputs": [
    {
     "name": "stdout",
     "output_type": "stream",
     "text": [
      "True\n",
      "True\n"
     ]
    }
   ],
   "source": [
    "print(bool(\"Hello\")) #just true\n",
    "print(bool(15))"
   ]
  },
  {
   "cell_type": "code",
   "execution_count": 301,
   "id": "c8b5785b-7b42-441d-9a3d-28b1aeb2402a",
   "metadata": {},
   "outputs": [
    {
     "data": {
      "text/plain": [
       "True"
      ]
     },
     "execution_count": 301,
     "metadata": {},
     "output_type": "execute_result"
    }
   ],
   "source": [
    "bool(\"abc\")\n",
    "bool(123)\n",
    "bool([\"apple\", \"cherry\", \"banana\"])"
   ]
  },
  {
   "cell_type": "code",
   "execution_count": 303,
   "id": "c1bc5bb0-1c77-4056-8125-b442c17a43fc",
   "metadata": {},
   "outputs": [
    {
     "data": {
      "text/plain": [
       "False"
      ]
     },
     "execution_count": 303,
     "metadata": {},
     "output_type": "execute_result"
    }
   ],
   "source": [
    "bool(False)\n",
    "bool(None)\n",
    "bool(0)\n",
    "bool(\"\") #emty string\n",
    "bool(()) #emty tuple\n",
    "bool([]) #emty list\n",
    "bool({}) #emty set"
   ]
  },
  {
   "cell_type": "code",
   "execution_count": 307,
   "id": "2334d43d-840b-42f2-b85f-0631e37751ed",
   "metadata": {},
   "outputs": [
    {
     "name": "stdout",
     "output_type": "stream",
     "text": [
      "True\n"
     ]
    }
   ],
   "source": [
    "def myFunction() :\n",
    "  return True\n",
    "\n",
    "print(myFunction())"
   ]
  },
  {
   "cell_type": "code",
   "execution_count": 309,
   "id": "bbeac322-f879-4211-9c54-4d6c4a019522",
   "metadata": {},
   "outputs": [
    {
     "name": "stdout",
     "output_type": "stream",
     "text": [
      "True\n"
     ]
    }
   ],
   "source": [
    "x = 200\n",
    "print(isinstance(x, int))"
   ]
  },
  {
   "cell_type": "markdown",
   "id": "a309af9f-5b8b-4604-9e36-624b8cf62da9",
   "metadata": {},
   "source": [
    "Python Operators"
   ]
  },
  {
   "cell_type": "code",
   "execution_count": 312,
   "id": "04d01d5c-241f-4401-821c-5412a2c229a6",
   "metadata": {},
   "outputs": [
    {
     "name": "stdout",
     "output_type": "stream",
     "text": [
      "15\n"
     ]
    }
   ],
   "source": [
    "print(10 + 5)"
   ]
  },
  {
   "cell_type": "markdown",
   "id": "1a3e4751-2138-43b2-97da-12a1f4f051cd",
   "metadata": {},
   "source": [
    "else if..."
   ]
  },
  {
   "cell_type": "code",
   "execution_count": 315,
   "id": "797b52f4-1050-4d77-bf18-284b7c1b0813",
   "metadata": {},
   "outputs": [
    {
     "name": "stdout",
     "output_type": "stream",
     "text": [
      "a is greater than b\n"
     ]
    }
   ],
   "source": [
    "a = 200\n",
    "b = 33\n",
    "if b > a:\n",
    "  print(\"b is greater than a\")\n",
    "elif a == b:\n",
    "  print(\"a and b are equal\")\n",
    "else:\n",
    "  print(\"a is greater than b\")"
   ]
  },
  {
   "cell_type": "code",
   "execution_count": 317,
   "id": "a7159d34-7964-4ef2-9687-d3be6516fbd7",
   "metadata": {},
   "outputs": [
    {
     "name": "stdout",
     "output_type": "stream",
     "text": [
      "A\n"
     ]
    }
   ],
   "source": [
    "a = 2000\n",
    "b = 330\n",
    "print(\"A\") if a > b else print(\"B\")"
   ]
  },
  {
   "cell_type": "code",
   "execution_count": 319,
   "id": "6fc30467-0438-4bee-9c80-2295e3127d78",
   "metadata": {},
   "outputs": [
    {
     "name": "stdout",
     "output_type": "stream",
     "text": [
      "=\n"
     ]
    }
   ],
   "source": [
    "a = 330\n",
    "b = 330\n",
    "print(\"A\") if a > b else print(\"=\") if a == b else print(\"B\")"
   ]
  },
  {
   "cell_type": "code",
   "execution_count": 321,
   "id": "040a632a-f52b-463e-bcca-7e584208164a",
   "metadata": {},
   "outputs": [
    {
     "name": "stdout",
     "output_type": "stream",
     "text": [
      "a is NOT greater than b\n"
     ]
    }
   ],
   "source": [
    "a = 33\n",
    "b = 200\n",
    "if not a > b:\n",
    "  print(\"a is NOT greater than b\")"
   ]
  },
  {
   "cell_type": "code",
   "execution_count": 323,
   "id": "65742764-df4b-44f1-9d68-3ac23a54d97d",
   "metadata": {},
   "outputs": [
    {
     "name": "stdout",
     "output_type": "stream",
     "text": [
      "Above ten,\n",
      "and also above 20!\n"
     ]
    }
   ],
   "source": [
    "#You can have if statements inside if statements, this is called nested if statements.:\n",
    "x = 41\n",
    "\n",
    "if x > 10:\n",
    "  print(\"Above ten,\")\n",
    "  if x > 20:\n",
    "    print(\"and also above 20!\")\n",
    "  else:\n",
    "    print(\"but not above 20.\")"
   ]
  },
  {
   "cell_type": "code",
   "execution_count": 329,
   "id": "d6c09f99-02c6-4d04-85dd-66bdb70e8d20",
   "metadata": {},
   "outputs": [],
   "source": [
    "#The pass StatementЖ\n",
    "a = 33\n",
    "b = 200\n",
    "\n",
    "if b > a:\n",
    "  pass"
   ]
  },
  {
   "cell_type": "code",
   "execution_count": null,
   "id": "2ceacfff-dfdb-41dc-9892-33d4066f3add",
   "metadata": {},
   "outputs": [],
   "source": []
  }
 ],
 "metadata": {
  "kernelspec": {
   "display_name": "Python [conda env:base] *",
   "language": "python",
   "name": "conda-base-py"
  },
  "language_info": {
   "codemirror_mode": {
    "name": "ipython",
    "version": 3
   },
   "file_extension": ".py",
   "mimetype": "text/x-python",
   "name": "python",
   "nbconvert_exporter": "python",
   "pygments_lexer": "ipython3",
   "version": "3.12.7"
  }
 },
 "nbformat": 4,
 "nbformat_minor": 5
}
