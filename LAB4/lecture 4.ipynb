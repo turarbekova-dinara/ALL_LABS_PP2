{
 "cells": [
  {
   "cell_type": "markdown",
   "id": "ae879297-0cd5-47c5-8e4c-2acd2c15a7b7",
   "metadata": {},
   "source": [
    "Python Iterators"
   ]
  },
  {
   "cell_type": "code",
   "execution_count": null,
   "id": "65d551a5-35c2-4488-89cc-301f6e4f6dcc",
   "metadata": {},
   "outputs": [
    {
     "name": "stdout",
     "output_type": "stream",
     "text": [
      "apple\n",
      "banana\n",
      "cherry\n"
     ]
    }
   ],
   "source": [
    "mytuple = (\"apple\", \"banana\", \"cherry\")\n",
    "myit = iter(mytuple)  # Итератор алу\n",
    "\n",
    "for i in mytuple:\n",
    "    print(next(myit))"
   ]
  },
  {
   "cell_type": "code",
   "execution_count": null,
   "id": "0ad86525-84e8-49f2-839e-88b0a71a24fd",
   "metadata": {},
   "outputs": [
    {
     "name": "stdout",
     "output_type": "stream",
     "text": [
      "b\n",
      "a\n",
      "n\n",
      "a\n",
      "n\n",
      "a\n"
     ]
    }
   ],
   "source": [
    "mystr = \"banana\"\n",
    "myit = iter(mystr)\n",
    "\n",
    "for i in mystr:\n",
    "    print(next(myit))"
   ]
  },
  {
   "cell_type": "code",
   "execution_count": 12,
   "id": "5f1e126a-138e-46d7-8152-e79cb6be089f",
   "metadata": {},
   "outputs": [
    {
     "name": "stdout",
     "output_type": "stream",
     "text": [
      "1\n",
      "2\n",
      "3\n",
      "4\n",
      "5\n"
     ]
    }
   ],
   "source": [
    "#1-ден бастап 5-ке дейін сан шығаратын итератор:\n",
    "\n",
    "class MyNumbers:\n",
    "    def __iter__(self):\n",
    "        self.a = 1  # Бастапқы мән\n",
    "        return self\n",
    "\n",
    "    def __next__(self):\n",
    "        if self.a > 5:  # 5-тен асса тоқтайды\n",
    "            raise StopIteration\n",
    "        x = self.a\n",
    "        self.a += 1\n",
    "        return x\n",
    "\n",
    "# Объект жасау\n",
    "myclass = MyNumbers()\n",
    "myiter = iter(myclass)\n",
    "\n",
    "# Итераторды қолдану\n",
    "for num in myiter:\n",
    "    print(num)"
   ]
  },
  {
   "cell_type": "markdown",
   "id": "261bed17-2156-470d-8164-1921f5c7a81a",
   "metadata": {},
   "source": [
    "Python Scope"
   ]
  },
  {
   "cell_type": "code",
   "execution_count": 15,
   "id": "1c5ff664-653a-44a1-827c-6ec0fc12a978",
   "metadata": {},
   "outputs": [
    {
     "name": "stdout",
     "output_type": "stream",
     "text": [
      "300\n"
     ]
    }
   ],
   "source": [
    "#Local Scope:\n",
    "\n",
    "def myfunc():\n",
    "  x = 300\n",
    "  print(x)\n",
    "\n",
    "myfunc()"
   ]
  },
  {
   "cell_type": "code",
   "execution_count": 19,
   "id": "88520e2d-f51a-45c0-9223-e2af03b572f7",
   "metadata": {},
   "outputs": [
    {
     "name": "stdout",
     "output_type": "stream",
     "text": [
      "300\n"
     ]
    }
   ],
   "source": [
    "#Function Inside Function:\n",
    "\n",
    "def myfunc():\n",
    "  x = 300\n",
    "  def myinnerfunc():\n",
    "    print(x) # Ішкі функция сыртқы x айнымалысын қолдана алады\n",
    "  myinnerfunc()\n",
    "\n",
    "myfunc()"
   ]
  },
  {
   "cell_type": "code",
   "execution_count": 21,
   "id": "03c3a026-75d7-4b16-ba92-433357fa75d4",
   "metadata": {},
   "outputs": [
    {
     "name": "stdout",
     "output_type": "stream",
     "text": [
      "300\n",
      "300\n"
     ]
    }
   ],
   "source": [
    "#Global Scope:\n",
    "\n",
    "x = 300  # Глобалды айнымалы\n",
    "\n",
    "def myfunc():\n",
    "    print(x)  # Функция ішінде глобалды айнымалыны қолдану\n",
    "\n",
    "myfunc()\n",
    "print(x)  # Глобалды айнымалыны сыртта қолдану"
   ]
  },
  {
   "cell_type": "code",
   "execution_count": 25,
   "id": "1ef878d2-224d-4cec-b2ad-15841a4f61f2",
   "metadata": {},
   "outputs": [
    {
     "name": "stdout",
     "output_type": "stream",
     "text": [
      "200\n",
      "300\n"
     ]
    }
   ],
   "source": [
    "#Naming Variables:\n",
    "\n",
    "x = 300  # Глобалды x\n",
    "\n",
    "def myfunc():\n",
    "    x = 200  # Локалды x\n",
    "    print(x)  # Локалды x басылып шығады\n",
    "\n",
    "myfunc()\n",
    "print(x)  # Глобалды x басылып шығады"
   ]
  },
  {
   "cell_type": "code",
   "execution_count": 27,
   "id": "d63a8f64-21a7-4a4f-84a3-b51be80b0e91",
   "metadata": {},
   "outputs": [
    {
     "name": "stdout",
     "output_type": "stream",
     "text": [
      "300\n"
     ]
    }
   ],
   "source": [
    "#Global Keyword:\n",
    "\n",
    "def myfunc():\n",
    "    global x  # x глобалды болады\n",
    "    x = 300\n",
    "\n",
    "myfunc()\n",
    "print(x)  # x функциядан тыс жерде де бар"
   ]
  },
  {
   "cell_type": "code",
   "execution_count": 29,
   "id": "a93ecb58-dc54-4cbe-b1bb-3b316e31509e",
   "metadata": {},
   "outputs": [
    {
     "name": "stdout",
     "output_type": "stream",
     "text": [
      "200\n"
     ]
    }
   ],
   "source": [
    "x = 300\n",
    "\n",
    "def myfunc():\n",
    "    global x\n",
    "    x = 200  # Глобалды x өзгерді\n",
    "\n",
    "myfunc()\n",
    "print(x)  # Жаңа мән 200 болады"
   ]
  },
  {
   "cell_type": "code",
   "execution_count": 31,
   "id": "38b8cc08-f0ac-42f2-85e4-7a24bdcd503f",
   "metadata": {},
   "outputs": [
    {
     "name": "stdout",
     "output_type": "stream",
     "text": [
      "hello\n"
     ]
    }
   ],
   "source": [
    "#Nonlocal Keyword:\n",
    "\n",
    "#Егер ішкі функция сыртқы функциядағы локалды айнымалының мәнін өзгерткісі келсе, nonlocal кілт сөзі қолданылады.\n",
    "def myfunc1():\n",
    "    x = \"Jane\"\n",
    "    def myfunc2():\n",
    "        nonlocal x  # Сыртқы x-ті өзгертеміз\n",
    "        x = \"hello\"\n",
    "    myfunc2()\n",
    "    return x\n",
    "\n",
    "print(myfunc1())  # \"hello\" шығады"
   ]
  },
  {
   "cell_type": "markdown",
   "id": "b4422131-ae4e-47fe-a2b8-c252ef3cece5",
   "metadata": {},
   "source": [
    "Python Modules"
   ]
  },
  {
   "cell_type": "code",
   "execution_count": 34,
   "id": "6a1b1804-229d-4b83-b6a3-563fc2274760",
   "metadata": {},
   "outputs": [],
   "source": [
    "#Модуль – бұл Python файлындағы код кітапханасы, оны басқа кодтарға импорттап қолдануға болады."
   ]
  },
  {
   "cell_type": "code",
   "execution_count": 38,
   "id": "ad689bab-2e4b-47c7-95e6-5508a68b8833",
   "metadata": {},
   "outputs": [],
   "source": [
    "#1.Модуль жасау (Create a Module):\n",
    "\n",
    "def greeting(name):\n",
    "    print(\"Hello, \" + name)\n",
    "#Файл атауы: mymodule.py"
   ]
  },
  {
   "cell_type": "code",
   "execution_count": 60,
   "id": "7d96992d-adf7-4190-96c4-63706589f1cb",
   "metadata": {},
   "outputs": [
    {
     "data": {
      "text/plain": [
       "'\\nimport mymodule\\n\\nmymodule.greeting(\"Dinara\")\\n'"
      ]
     },
     "execution_count": 60,
     "metadata": {},
     "output_type": "execute_result"
    }
   ],
   "source": [
    "#2. Модульді пайдалану (Use a Module):\n",
    "\n",
    "'''\n",
    "import mymodule\n",
    "\n",
    "mymodule.greeting(\"Dinara\")\n",
    "'''"
   ]
  },
  {
   "cell_type": "code",
   "execution_count": 58,
   "id": "4d6ba26f-e931-4bf6-a429-34fa28e92b49",
   "metadata": {},
   "outputs": [
    {
     "data": {
      "text/plain": [
       "'\\nimport mymodule\\n\\na = mymodule.person1[\"age\"]\\nprint(a)\\n#36\\n'"
      ]
     },
     "execution_count": 58,
     "metadata": {},
     "output_type": "execute_result"
    }
   ],
   "source": [
    "#3. Модульдегі айнымалылар (Variables in a Module):\n",
    "\n",
    "#mymodule.py файлына сөздік (dictionary) қосайық:\n",
    "person1 = {\n",
    "    \"name\": \"John\",\n",
    "    \"age\": 36,\n",
    "    \"country\": \"Norway\"\n",
    "}\n",
    "#Енді модульді импорттап, person1 сөздігін қолданамыз:\n",
    "'''\n",
    "import mymodule\n",
    "\n",
    "a = mymodule.person1[\"age\"]\n",
    "print(a)\n",
    "#36\n",
    "'''"
   ]
  },
  {
   "cell_type": "code",
   "execution_count": 62,
   "id": "fa12f325-512d-468b-ae93-e4e94eb14967",
   "metadata": {},
   "outputs": [
    {
     "data": {
      "text/plain": [
       "'\\nimport mymodule as mx\\n\\na = mx.person1[\"age\"]\\nprint(a)\\n'"
      ]
     },
     "execution_count": 62,
     "metadata": {},
     "output_type": "execute_result"
    }
   ],
   "source": [
    "#4. Модульге басқа атау беру (Renaming a Module):\n",
    "\n",
    "#as кілт сөзін қолданып, модульге қысқа атау беруге болады.\n",
    "'''\n",
    "import mymodule as mx\n",
    "\n",
    "a = mx.person1[\"age\"]\n",
    "print(a)\n",
    "'''"
   ]
  },
  {
   "cell_type": "code",
   "execution_count": 64,
   "id": "203b92d3-4767-4b05-8bd3-ebbcb41bb661",
   "metadata": {},
   "outputs": [
    {
     "data": {
      "text/plain": [
       "'\\nPython-да дайын модульдер бар, оларды импорттап қолдануға болады.\\n\\nimport platform\\n\\nx = platform.system()\\nprint(x)\\n\\nоперациялық жүйенің атауын шығарады\\n'"
      ]
     },
     "execution_count": 64,
     "metadata": {},
     "output_type": "execute_result"
    }
   ],
   "source": [
    "#5.Кірістірілген модульдер (Built-in Modules):\n",
    "\n",
    "'''\n",
    "Python-да дайын модульдер бар, оларды импорттап қолдануға болады.\n",
    "\n",
    "import platform\n",
    "\n",
    "x = platform.system()\n",
    "print(x)\n",
    "\n",
    "операциялық жүйенің атауын шығарады\n",
    "'''"
   ]
  },
  {
   "cell_type": "code",
   "execution_count": 66,
   "id": "62db8ab4-1700-492c-b094-6758f848d666",
   "metadata": {},
   "outputs": [
    {
     "data": {
      "text/plain": [
       "'\\ndir() модульдегі барлық функциялар мен айнымалыларды тізімдейді.\\n\\nimport platform\\n\\nx = dir(platform)\\nprint(x)\\n\\n✔ Барлық аттар тізім түрінде шығады.\\n'"
      ]
     },
     "execution_count": 66,
     "metadata": {},
     "output_type": "execute_result"
    }
   ],
   "source": [
    "#6. dir() функциясы (List all functions and variables):\n",
    "\n",
    "'''\n",
    "dir() модульдегі барлық функциялар мен айнымалыларды тізімдейді.\n",
    "\n",
    "import platform\n",
    "\n",
    "x = dir(platform)\n",
    "print(x)\n",
    "\n",
    "✔ Барлық аттар тізім түрінде шығады.\n",
    "'''"
   ]
  },
  {
   "cell_type": "code",
   "execution_count": 68,
   "id": "452f1011-9711-4e6e-a669-03a17d4bcf7f",
   "metadata": {},
   "outputs": [
    {
     "data": {
      "text/plain": [
       "'\\nКейде тек белгілі бір айнымалы немесе функцияны импорттау керек болады.\\n\\nfrom mymodule import person1\\n\\nprint(person1[\"age\"])\\n\\n✔ Модуль атын жазбаймыз, тек person1[\"age\"] деп қолданамыз.\\n'"
      ]
     },
     "execution_count": 68,
     "metadata": {},
     "output_type": "execute_result"
    }
   ],
   "source": [
    "#7. Модульден тек бір бөлікті импорттау (Import From Module):\n",
    "\n",
    "'''\n",
    "Кейде тек белгілі бір айнымалы немесе функцияны импорттау керек болады.\n",
    "\n",
    "from mymodule import person1\n",
    "\n",
    "print(person1[\"age\"])\n",
    "\n",
    "✔ Модуль атын жазбаймыз, тек person1[\"age\"] деп қолданамыз.\n",
    "'''"
   ]
  },
  {
   "cell_type": "markdown",
   "id": "22afbce4-e90c-4914-9985-bab7d4924202",
   "metadata": {},
   "source": [
    "Python datetime Модулі"
   ]
  },
  {
   "cell_type": "code",
   "execution_count": 71,
   "id": "ea5211f0-9d56-42bf-ad95-42f5c805d10c",
   "metadata": {},
   "outputs": [
    {
     "data": {
      "text/plain": [
       "'\\nimport datetime\\n\\nx = datetime.datetime.now()\\nprint(x)\\n\\noutput: 2025-02-12 16:15:05.892936 #жыл, ай, күн, сағат, минут, секунд, микросекунд\\n'"
      ]
     },
     "execution_count": 71,
     "metadata": {},
     "output_type": "execute_result"
    }
   ],
   "source": [
    "#1. Қазіргі күн мен уақытты шығару:\n",
    "\n",
    "'''\n",
    "import datetime\n",
    "\n",
    "x = datetime.datetime.now()\n",
    "print(x)\n",
    "\n",
    "output: 2025-02-12 16:15:05.892936 #жыл, ай, күн, сағат, минут, секунд, микросекунд\n",
    "'''"
   ]
  },
  {
   "cell_type": "code",
   "execution_count": 73,
   "id": "2b37cd42-00dc-4343-8382-370edaa7e3ba",
   "metadata": {},
   "outputs": [
    {
     "data": {
      "text/plain": [
       "'\\nimport datetime\\n\\nx = datetime.datetime.now()\\n\\nprint(x.year)         # Жыл\\nprint(x.strftime(\"%A\"))  # Апта күні\\n'"
      ]
     },
     "execution_count": 73,
     "metadata": {},
     "output_type": "execute_result"
    }
   ],
   "source": [
    "#2. Жыл мен аптаның күнін алу: (strftime(\"%A\") – аптаның атауын шығарады.)\n",
    "\n",
    "'''\n",
    "import datetime\n",
    "\n",
    "x = datetime.datetime.now()\n",
    "\n",
    "print(x.year)         # Жыл\n",
    "print(x.strftime(\"%A\"))  # Апта күні\n",
    "'''\n",
    "#2025\n",
    "#Wednesday"
   ]
  },
  {
   "cell_type": "code",
   "execution_count": 75,
   "id": "3e78a5ac-613f-458b-b1f9-a4af6ba75ad7",
   "metadata": {},
   "outputs": [
    {
     "data": {
      "text/plain": [
       "'\\nx = datetime.datetime(2020, 5, 17, 14, 30, 45)\\nprint(x)\\n'"
      ]
     },
     "execution_count": 75,
     "metadata": {},
     "output_type": "execute_result"
    }
   ],
   "source": [
    "#3. Күн объектісін құру:\n",
    "\n",
    "#✅ Белгілі бір күнді жасау үшін datetime() класын қолданамыз.\n",
    "'''\n",
    "x = datetime.datetime(2020, 5, 17, 14, 30, 45)\n",
    "print(x)\n",
    "'''\n",
    "#2020-05-17 14:30:45"
   ]
  },
  {
   "cell_type": "code",
   "execution_count": 79,
   "id": "59b5c9b5-2f48-4f3b-bf62-9c8cab540bcf",
   "metadata": {},
   "outputs": [
    {
     "data": {
      "text/plain": [
       "'\\nimport datetime\\n\\nx = datetime.datetime(2018, 6, 1)\\n\\nprint(x.strftime(\"%B\"))  # Ай атауын шығару\\n'"
      ]
     },
     "execution_count": 79,
     "metadata": {},
     "output_type": "execute_result"
    }
   ],
   "source": [
    "#4. strftime() әдісі (Күнді пішімдеу):\n",
    "\n",
    "#✅ strftime() – күнді оқуға ыңғайлы форматқа айналдырады.\n",
    "\n",
    "'''\n",
    "import datetime\n",
    "\n",
    "x = datetime.datetime(2018, 6, 1)\n",
    "\n",
    "print(x.strftime(\"%B\"))  # Ай атауын шығару\n",
    "'''\n",
    "#June"
   ]
  },
  {
   "cell_type": "markdown",
   "id": "6a5c9a06-84f5-41fe-b896-514a85dbb336",
   "metadata": {},
   "source": [
    "Python math Модулі"
   ]
  },
  {
   "cell_type": "code",
   "execution_count": 82,
   "id": "881bd604-6d71-4c32-889d-a4e68269cfdd",
   "metadata": {},
   "outputs": [
    {
     "name": "stdout",
     "output_type": "stream",
     "text": [
      "5\n",
      "25\n"
     ]
    }
   ],
   "source": [
    "#1. min() және max() функциялары\n",
    "\n",
    "x = min(5, 10, 25)\n",
    "y = max(5, 10, 25)\n",
    "\n",
    "print(x)  # 5\n",
    "print(y)  # 25"
   ]
  },
  {
   "cell_type": "code",
   "execution_count": 84,
   "id": "d1a1c94a-5e3e-46f6-a991-e14f43d1637f",
   "metadata": {},
   "outputs": [
    {
     "name": "stdout",
     "output_type": "stream",
     "text": [
      "7.25\n"
     ]
    }
   ],
   "source": [
    "#2. abs() – Абсолют мәнін табу\n",
    "\n",
    "x = abs(-7.25)\n",
    "print(x)  # 7.25"
   ]
  },
  {
   "cell_type": "code",
   "execution_count": 86,
   "id": "25ffb8ac-05ea-4c43-bb5b-766027455453",
   "metadata": {},
   "outputs": [
    {
     "name": "stdout",
     "output_type": "stream",
     "text": [
      "64\n"
     ]
    }
   ],
   "source": [
    "#3. pow(x, y) – Дәрежеге шығару\n",
    "\n",
    "x = pow(4, 3)  # 4 ** 3 = 64\n",
    "print(x)"
   ]
  },
  {
   "cell_type": "code",
   "execution_count": 88,
   "id": "b62c2f0f-a0b2-4fad-b48d-28136fb7a6a2",
   "metadata": {},
   "outputs": [],
   "source": [
    "#📌 math Модулі (import math)"
   ]
  },
  {
   "cell_type": "code",
   "execution_count": 90,
   "id": "ca434da0-5244-433f-94ed-12e3f0349f4b",
   "metadata": {},
   "outputs": [
    {
     "data": {
      "text/plain": [
       "'\\nimport math\\n\\nx = math.sqrt(64)\\nprint(x)  # 8.0\\n'"
      ]
     },
     "execution_count": 90,
     "metadata": {},
     "output_type": "execute_result"
    }
   ],
   "source": [
    "#4. math.sqrt() – Квадрат түбір табу\n",
    "\n",
    "'''\n",
    "import math\n",
    "\n",
    "x = math.sqrt(64)\n",
    "print(x)  # 8.0\n",
    "'''"
   ]
  },
  {
   "cell_type": "code",
   "execution_count": 92,
   "id": "0047870a-c1cb-45ab-b047-a87bb9729291",
   "metadata": {},
   "outputs": [
    {
     "data": {
      "text/plain": [
       "'\\nimport math\\n\\nx = math.ceil(1.4)  # 2\\ny = math.floor(1.4) # 1\\n\\nprint(x)\\nprint(y)\\n'"
      ]
     },
     "execution_count": 92,
     "metadata": {},
     "output_type": "execute_result"
    }
   ],
   "source": [
    "#5. math.ceil() және math.floor() – Санды дөңгелектеу\n",
    "\n",
    "'''\n",
    "import math\n",
    "\n",
    "x = math.ceil(1.4)  # 2\n",
    "y = math.floor(1.4) # 1\n",
    "\n",
    "print(x)\n",
    "print(y)\n",
    "'''"
   ]
  },
  {
   "cell_type": "code",
   "execution_count": 94,
   "id": "426f8f35-135b-453d-8e57-36ff20d6fbce",
   "metadata": {},
   "outputs": [
    {
     "data": {
      "text/plain": [
       "'\\nimport math\\n\\nx = math.pi\\nprint(x)\\n'"
      ]
     },
     "execution_count": 94,
     "metadata": {},
     "output_type": "execute_result"
    }
   ],
   "source": [
    "#6. math.pi – PI мәні\n",
    "\n",
    "'''\n",
    "import math\n",
    "\n",
    "x = math.pi\n",
    "print(x)\n",
    "'''\n",
    "#3.141592653589793"
   ]
  },
  {
   "cell_type": "markdown",
   "id": "79d6106a-8d0f-45a3-9a60-13f6f9f53d2c",
   "metadata": {},
   "source": [
    "Python JSON"
   ]
  },
  {
   "cell_type": "code",
   "execution_count": null,
   "id": "cfb885b3-4bfd-41a5-8be2-f8bd22a7e39c",
   "metadata": {},
   "outputs": [],
   "source": []
  }
 ],
 "metadata": {
  "kernelspec": {
   "display_name": "Python [conda env:base] *",
   "language": "python",
   "name": "conda-base-py"
  },
  "language_info": {
   "codemirror_mode": {
    "name": "ipython",
    "version": 3
   },
   "file_extension": ".py",
   "mimetype": "text/x-python",
   "name": "python",
   "nbconvert_exporter": "python",
   "pygments_lexer": "ipython3",
   "version": "3.12.7"
  }
 },
 "nbformat": 4,
 "nbformat_minor": 5
}
